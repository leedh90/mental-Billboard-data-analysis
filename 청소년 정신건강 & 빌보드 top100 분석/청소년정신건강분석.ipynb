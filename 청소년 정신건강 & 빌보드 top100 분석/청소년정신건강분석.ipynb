{
 "cells": [
  {
   "cell_type": "code",
   "execution_count": 2,
   "metadata": {},
   "outputs": [],
   "source": [
    "import pandas as pd"
   ]
  },
  {
   "cell_type": "code",
   "execution_count": 3,
   "metadata": {},
   "outputs": [
    {
     "data": {
      "text/plain": [
       "DatetimeIndex(['2019-03-01', '2019-03-02', '2019-03-03', '2019-03-04',\n",
       "               '2019-03-05', '2019-03-06'],\n",
       "              dtype='datetime64[ns]', freq='D')"
      ]
     },
     "execution_count": 3,
     "metadata": {},
     "output_type": "execute_result"
    }
   ],
   "source": [
    "dates = pd.date_range(\"20190301\", periods=6) # periods 는 몇일까지 라는 범위.\n",
    "dates"
   ]
  },
  {
   "cell_type": "code",
   "execution_count": 4,
   "metadata": {},
   "outputs": [],
   "source": [
    "import numpy as np"
   ]
  },
  {
   "cell_type": "code",
   "execution_count": 14,
   "metadata": {},
   "outputs": [
    {
     "data": {
      "text/html": [
       "<div>\n",
       "<style scoped>\n",
       "    .dataframe tbody tr th:only-of-type {\n",
       "        vertical-align: middle;\n",
       "    }\n",
       "\n",
       "    .dataframe tbody tr th {\n",
       "        vertical-align: top;\n",
       "    }\n",
       "\n",
       "    .dataframe thead th {\n",
       "        text-align: right;\n",
       "    }\n",
       "</style>\n",
       "<table border=\"1\" class=\"dataframe\">\n",
       "  <thead>\n",
       "    <tr style=\"text-align: right;\">\n",
       "      <th></th>\n",
       "      <th>A</th>\n",
       "      <th>B</th>\n",
       "      <th>C</th>\n",
       "      <th>D</th>\n",
       "    </tr>\n",
       "  </thead>\n",
       "  <tbody>\n",
       "    <tr>\n",
       "      <th>2019-03-01</th>\n",
       "      <td>0.488070</td>\n",
       "      <td>0.977446</td>\n",
       "      <td>-1.078024</td>\n",
       "      <td>0.304832</td>\n",
       "    </tr>\n",
       "    <tr>\n",
       "      <th>2019-03-02</th>\n",
       "      <td>-0.094294</td>\n",
       "      <td>0.116606</td>\n",
       "      <td>1.331697</td>\n",
       "      <td>-0.379628</td>\n",
       "    </tr>\n",
       "    <tr>\n",
       "      <th>2019-03-03</th>\n",
       "      <td>-0.537751</td>\n",
       "      <td>1.289351</td>\n",
       "      <td>0.644187</td>\n",
       "      <td>-0.420210</td>\n",
       "    </tr>\n",
       "    <tr>\n",
       "      <th>2019-03-04</th>\n",
       "      <td>-0.061353</td>\n",
       "      <td>-0.306427</td>\n",
       "      <td>0.091094</td>\n",
       "      <td>0.603449</td>\n",
       "    </tr>\n",
       "    <tr>\n",
       "      <th>2019-03-05</th>\n",
       "      <td>-0.309377</td>\n",
       "      <td>0.501087</td>\n",
       "      <td>0.297372</td>\n",
       "      <td>1.147860</td>\n",
       "    </tr>\n",
       "    <tr>\n",
       "      <th>2019-03-06</th>\n",
       "      <td>0.182177</td>\n",
       "      <td>-0.167308</td>\n",
       "      <td>-1.605440</td>\n",
       "      <td>-0.288352</td>\n",
       "    </tr>\n",
       "  </tbody>\n",
       "</table>\n",
       "</div>"
      ],
      "text/plain": [
       "                   A         B         C         D\n",
       "2019-03-01  0.488070  0.977446 -1.078024  0.304832\n",
       "2019-03-02 -0.094294  0.116606  1.331697 -0.379628\n",
       "2019-03-03 -0.537751  1.289351  0.644187 -0.420210\n",
       "2019-03-04 -0.061353 -0.306427  0.091094  0.603449\n",
       "2019-03-05 -0.309377  0.501087  0.297372  1.147860\n",
       "2019-03-06  0.182177 -0.167308 -1.605440 -0.288352"
      ]
     },
     "execution_count": 14,
     "metadata": {},
     "output_type": "execute_result"
    }
   ],
   "source": [
    "df = pd.DataFrame(np.random.randn(6, 4), index=dates, columns=[\"A\", \"B\", \"C\", \"D\"])\n",
    "# numpy는 랜덤한 값을 발생시키는 함수가 있다. random.randn(6, 4) 6행 4열의 임의의 값 생성 인덱스를 지정할 수 있고 지정 안하면 오토인덱싱\n",
    "# 컬럼명도 지정할 수 있다. 현재 들어있는 값은 numpy가 발생시킨 임의의 수\n",
    "df"
   ]
  },
  {
   "cell_type": "code",
   "execution_count": 15,
   "metadata": {},
   "outputs": [
    {
     "data": {
      "text/plain": [
       "pandas.core.frame.DataFrame"
      ]
     },
     "execution_count": 15,
     "metadata": {},
     "output_type": "execute_result"
    }
   ],
   "source": [
    "type(df) # 타입은 데이터프레임"
   ]
  },
  {
   "cell_type": "code",
   "execution_count": 9,
   "metadata": {},
   "outputs": [
    {
     "data": {
      "text/plain": [
       "Index(['A', 'B', 'C', 'D'], dtype='object')"
      ]
     },
     "execution_count": 9,
     "metadata": {},
     "output_type": "execute_result"
    }
   ],
   "source": [
    "df.columns # 컬럼값만 가져오기"
   ]
  },
  {
   "cell_type": "code",
   "execution_count": 10,
   "metadata": {},
   "outputs": [
    {
     "data": {
      "text/plain": [
       "DatetimeIndex(['2019-03-01', '2019-03-02', '2019-03-03', '2019-03-04',\n",
       "               '2019-03-05', '2019-03-06'],\n",
       "              dtype='datetime64[ns]', freq='D')"
      ]
     },
     "execution_count": 10,
     "metadata": {},
     "output_type": "execute_result"
    }
   ],
   "source": [
    "df.index # 인덱스 값만 가져오기"
   ]
  },
  {
   "cell_type": "code",
   "execution_count": 11,
   "metadata": {},
   "outputs": [
    {
     "data": {
      "text/plain": [
       "array([[ 0.52636741,  0.37796921,  1.37731147, -0.14097688],\n",
       "       [ 1.8690489 ,  0.72623694, -0.58235782,  1.3402835 ],\n",
       "       [-1.57141068, -1.04972128,  1.32358754,  1.63019463],\n",
       "       [ 1.03821964,  1.01652204, -1.16512788,  0.3603588 ],\n",
       "       [-0.62086225,  0.97808248,  0.37137989, -0.59780363],\n",
       "       [ 1.04176672, -1.22857893,  1.29776142,  0.67108932]])"
      ]
     },
     "execution_count": 11,
     "metadata": {},
     "output_type": "execute_result"
    }
   ],
   "source": [
    "df.values # data값만 가져오기"
   ]
  },
  {
   "cell_type": "code",
   "execution_count": 13,
   "metadata": {},
   "outputs": [
    {
     "data": {
      "text/html": [
       "<div>\n",
       "<style scoped>\n",
       "    .dataframe tbody tr th:only-of-type {\n",
       "        vertical-align: middle;\n",
       "    }\n",
       "\n",
       "    .dataframe tbody tr th {\n",
       "        vertical-align: top;\n",
       "    }\n",
       "\n",
       "    .dataframe thead th {\n",
       "        text-align: right;\n",
       "    }\n",
       "</style>\n",
       "<table border=\"1\" class=\"dataframe\">\n",
       "  <thead>\n",
       "    <tr style=\"text-align: right;\">\n",
       "      <th></th>\n",
       "      <th>A</th>\n",
       "      <th>B</th>\n",
       "      <th>C</th>\n",
       "      <th>D</th>\n",
       "    </tr>\n",
       "  </thead>\n",
       "  <tbody>\n",
       "    <tr>\n",
       "      <th>count</th>\n",
       "      <td>6.000000</td>\n",
       "      <td>6.000000</td>\n",
       "      <td>6.000000</td>\n",
       "      <td>6.000000</td>\n",
       "    </tr>\n",
       "    <tr>\n",
       "      <th>mean</th>\n",
       "      <td>0.380522</td>\n",
       "      <td>0.136752</td>\n",
       "      <td>0.437092</td>\n",
       "      <td>0.543858</td>\n",
       "    </tr>\n",
       "    <tr>\n",
       "      <th>std</th>\n",
       "      <td>1.258539</td>\n",
       "      <td>1.015811</td>\n",
       "      <td>1.097392</td>\n",
       "      <td>0.852839</td>\n",
       "    </tr>\n",
       "    <tr>\n",
       "      <th>min</th>\n",
       "      <td>-1.571411</td>\n",
       "      <td>-1.228579</td>\n",
       "      <td>-1.165128</td>\n",
       "      <td>-0.597804</td>\n",
       "    </tr>\n",
       "    <tr>\n",
       "      <th>25%</th>\n",
       "      <td>-0.334055</td>\n",
       "      <td>-0.692799</td>\n",
       "      <td>-0.343923</td>\n",
       "      <td>-0.015643</td>\n",
       "    </tr>\n",
       "    <tr>\n",
       "      <th>50%</th>\n",
       "      <td>0.782294</td>\n",
       "      <td>0.552103</td>\n",
       "      <td>0.834571</td>\n",
       "      <td>0.515724</td>\n",
       "    </tr>\n",
       "    <tr>\n",
       "      <th>75%</th>\n",
       "      <td>1.040880</td>\n",
       "      <td>0.915121</td>\n",
       "      <td>1.317131</td>\n",
       "      <td>1.172985</td>\n",
       "    </tr>\n",
       "    <tr>\n",
       "      <th>max</th>\n",
       "      <td>1.869049</td>\n",
       "      <td>1.016522</td>\n",
       "      <td>1.377311</td>\n",
       "      <td>1.630195</td>\n",
       "    </tr>\n",
       "  </tbody>\n",
       "</table>\n",
       "</div>"
      ],
      "text/plain": [
       "              A         B         C         D\n",
       "count  6.000000  6.000000  6.000000  6.000000\n",
       "mean   0.380522  0.136752  0.437092  0.543858\n",
       "std    1.258539  1.015811  1.097392  0.852839\n",
       "min   -1.571411 -1.228579 -1.165128 -0.597804\n",
       "25%   -0.334055 -0.692799 -0.343923 -0.015643\n",
       "50%    0.782294  0.552103  0.834571  0.515724\n",
       "75%    1.040880  0.915121  1.317131  1.172985\n",
       "max    1.869049  1.016522  1.377311  1.630195"
      ]
     },
     "execution_count": 13,
     "metadata": {},
     "output_type": "execute_result"
    }
   ],
   "source": [
    "df.describe() # describe는 함수라서 () 꼭 필요"
   ]
  },
  {
   "cell_type": "code",
   "execution_count": 16,
   "metadata": {},
   "outputs": [
    {
     "data": {
      "text/html": [
       "<div>\n",
       "<style scoped>\n",
       "    .dataframe tbody tr th:only-of-type {\n",
       "        vertical-align: middle;\n",
       "    }\n",
       "\n",
       "    .dataframe tbody tr th {\n",
       "        vertical-align: top;\n",
       "    }\n",
       "\n",
       "    .dataframe thead th {\n",
       "        text-align: right;\n",
       "    }\n",
       "</style>\n",
       "<table border=\"1\" class=\"dataframe\">\n",
       "  <thead>\n",
       "    <tr style=\"text-align: right;\">\n",
       "      <th></th>\n",
       "      <th>A</th>\n",
       "      <th>B</th>\n",
       "      <th>C</th>\n",
       "      <th>D</th>\n",
       "    </tr>\n",
       "  </thead>\n",
       "  <tbody>\n",
       "    <tr>\n",
       "      <th>2019-03-03</th>\n",
       "      <td>-0.537751</td>\n",
       "      <td>1.289351</td>\n",
       "      <td>0.644187</td>\n",
       "      <td>-0.420210</td>\n",
       "    </tr>\n",
       "    <tr>\n",
       "      <th>2019-03-05</th>\n",
       "      <td>-0.309377</td>\n",
       "      <td>0.501087</td>\n",
       "      <td>0.297372</td>\n",
       "      <td>1.147860</td>\n",
       "    </tr>\n",
       "    <tr>\n",
       "      <th>2019-03-02</th>\n",
       "      <td>-0.094294</td>\n",
       "      <td>0.116606</td>\n",
       "      <td>1.331697</td>\n",
       "      <td>-0.379628</td>\n",
       "    </tr>\n",
       "    <tr>\n",
       "      <th>2019-03-04</th>\n",
       "      <td>-0.061353</td>\n",
       "      <td>-0.306427</td>\n",
       "      <td>0.091094</td>\n",
       "      <td>0.603449</td>\n",
       "    </tr>\n",
       "    <tr>\n",
       "      <th>2019-03-06</th>\n",
       "      <td>0.182177</td>\n",
       "      <td>-0.167308</td>\n",
       "      <td>-1.605440</td>\n",
       "      <td>-0.288352</td>\n",
       "    </tr>\n",
       "    <tr>\n",
       "      <th>2019-03-01</th>\n",
       "      <td>0.488070</td>\n",
       "      <td>0.977446</td>\n",
       "      <td>-1.078024</td>\n",
       "      <td>0.304832</td>\n",
       "    </tr>\n",
       "  </tbody>\n",
       "</table>\n",
       "</div>"
      ],
      "text/plain": [
       "                   A         B         C         D\n",
       "2019-03-03 -0.537751  1.289351  0.644187 -0.420210\n",
       "2019-03-05 -0.309377  0.501087  0.297372  1.147860\n",
       "2019-03-02 -0.094294  0.116606  1.331697 -0.379628\n",
       "2019-03-04 -0.061353 -0.306427  0.091094  0.603449\n",
       "2019-03-06  0.182177 -0.167308 -1.605440 -0.288352\n",
       "2019-03-01  0.488070  0.977446 -1.078024  0.304832"
      ]
     },
     "execution_count": 16,
     "metadata": {},
     "output_type": "execute_result"
    }
   ],
   "source": [
    "df.sort_values(by=\"A\") # A의 컬럼이 오름차순으로 정렬"
   ]
  },
  {
   "cell_type": "code",
   "execution_count": 17,
   "metadata": {},
   "outputs": [
    {
     "data": {
      "text/html": [
       "<div>\n",
       "<style scoped>\n",
       "    .dataframe tbody tr th:only-of-type {\n",
       "        vertical-align: middle;\n",
       "    }\n",
       "\n",
       "    .dataframe tbody tr th {\n",
       "        vertical-align: top;\n",
       "    }\n",
       "\n",
       "    .dataframe thead th {\n",
       "        text-align: right;\n",
       "    }\n",
       "</style>\n",
       "<table border=\"1\" class=\"dataframe\">\n",
       "  <thead>\n",
       "    <tr style=\"text-align: right;\">\n",
       "      <th></th>\n",
       "      <th>A</th>\n",
       "      <th>B</th>\n",
       "      <th>C</th>\n",
       "      <th>D</th>\n",
       "    </tr>\n",
       "  </thead>\n",
       "  <tbody>\n",
       "    <tr>\n",
       "      <th>2019-03-01</th>\n",
       "      <td>0.488070</td>\n",
       "      <td>0.977446</td>\n",
       "      <td>-1.078024</td>\n",
       "      <td>0.304832</td>\n",
       "    </tr>\n",
       "    <tr>\n",
       "      <th>2019-03-06</th>\n",
       "      <td>0.182177</td>\n",
       "      <td>-0.167308</td>\n",
       "      <td>-1.605440</td>\n",
       "      <td>-0.288352</td>\n",
       "    </tr>\n",
       "    <tr>\n",
       "      <th>2019-03-04</th>\n",
       "      <td>-0.061353</td>\n",
       "      <td>-0.306427</td>\n",
       "      <td>0.091094</td>\n",
       "      <td>0.603449</td>\n",
       "    </tr>\n",
       "    <tr>\n",
       "      <th>2019-03-02</th>\n",
       "      <td>-0.094294</td>\n",
       "      <td>0.116606</td>\n",
       "      <td>1.331697</td>\n",
       "      <td>-0.379628</td>\n",
       "    </tr>\n",
       "    <tr>\n",
       "      <th>2019-03-05</th>\n",
       "      <td>-0.309377</td>\n",
       "      <td>0.501087</td>\n",
       "      <td>0.297372</td>\n",
       "      <td>1.147860</td>\n",
       "    </tr>\n",
       "    <tr>\n",
       "      <th>2019-03-03</th>\n",
       "      <td>-0.537751</td>\n",
       "      <td>1.289351</td>\n",
       "      <td>0.644187</td>\n",
       "      <td>-0.420210</td>\n",
       "    </tr>\n",
       "  </tbody>\n",
       "</table>\n",
       "</div>"
      ],
      "text/plain": [
       "                   A         B         C         D\n",
       "2019-03-01  0.488070  0.977446 -1.078024  0.304832\n",
       "2019-03-06  0.182177 -0.167308 -1.605440 -0.288352\n",
       "2019-03-04 -0.061353 -0.306427  0.091094  0.603449\n",
       "2019-03-02 -0.094294  0.116606  1.331697 -0.379628\n",
       "2019-03-05 -0.309377  0.501087  0.297372  1.147860\n",
       "2019-03-03 -0.537751  1.289351  0.644187 -0.420210"
      ]
     },
     "execution_count": 17,
     "metadata": {},
     "output_type": "execute_result"
    }
   ],
   "source": [
    "df.sort_values(by=\"A\", ascending=False) # A의 컬럼이 오름차순인 ascending을 False 설정하면 내림차순"
   ]
  },
  {
   "cell_type": "code",
   "execution_count": 18,
   "metadata": {},
   "outputs": [
    {
     "data": {
      "text/plain": [
       "2019-03-01    0.488070\n",
       "2019-03-02   -0.094294\n",
       "2019-03-03   -0.537751\n",
       "2019-03-04   -0.061353\n",
       "2019-03-05   -0.309377\n",
       "2019-03-06    0.182177\n",
       "Freq: D, Name: A, dtype: float64"
      ]
     },
     "execution_count": 18,
     "metadata": {},
     "output_type": "execute_result"
    }
   ],
   "source": [
    "df[\"A\"] # A열만 출력! 열은 같은 타입의 값을 가져야한다.(벡터)"
   ]
  },
  {
   "cell_type": "code",
   "execution_count": 19,
   "metadata": {},
   "outputs": [
    {
     "data": {
      "text/plain": [
       "2019-03-01    0.488070\n",
       "2019-03-02   -0.094294\n",
       "2019-03-03   -0.537751\n",
       "2019-03-04   -0.061353\n",
       "2019-03-05   -0.309377\n",
       "2019-03-06    0.182177\n",
       "Freq: D, Name: A, dtype: float64"
      ]
     },
     "execution_count": 19,
     "metadata": {},
     "output_type": "execute_result"
    }
   ],
   "source": [
    "df.A # == df[\"A\"] 두개가 같은 방법"
   ]
  },
  {
   "cell_type": "code",
   "execution_count": 20,
   "metadata": {},
   "outputs": [
    {
     "data": {
      "text/plain": [
       "pandas.core.series.Series"
      ]
     },
     "execution_count": 20,
     "metadata": {},
     "output_type": "execute_result"
    }
   ],
   "source": [
    "type(df.A) # 시리즈타입(객체를 만들어줌)"
   ]
  },
  {
   "cell_type": "code",
   "execution_count": 21,
   "metadata": {},
   "outputs": [
    {
     "data": {
      "text/html": [
       "<div>\n",
       "<style scoped>\n",
       "    .dataframe tbody tr th:only-of-type {\n",
       "        vertical-align: middle;\n",
       "    }\n",
       "\n",
       "    .dataframe tbody tr th {\n",
       "        vertical-align: top;\n",
       "    }\n",
       "\n",
       "    .dataframe thead th {\n",
       "        text-align: right;\n",
       "    }\n",
       "</style>\n",
       "<table border=\"1\" class=\"dataframe\">\n",
       "  <thead>\n",
       "    <tr style=\"text-align: right;\">\n",
       "      <th></th>\n",
       "      <th>A</th>\n",
       "      <th>B</th>\n",
       "      <th>C</th>\n",
       "      <th>D</th>\n",
       "    </tr>\n",
       "  </thead>\n",
       "  <tbody>\n",
       "    <tr>\n",
       "      <th>2019-03-01</th>\n",
       "      <td>0.488070</td>\n",
       "      <td>0.977446</td>\n",
       "      <td>-1.078024</td>\n",
       "      <td>0.304832</td>\n",
       "    </tr>\n",
       "    <tr>\n",
       "      <th>2019-03-02</th>\n",
       "      <td>-0.094294</td>\n",
       "      <td>0.116606</td>\n",
       "      <td>1.331697</td>\n",
       "      <td>-0.379628</td>\n",
       "    </tr>\n",
       "    <tr>\n",
       "      <th>2019-03-03</th>\n",
       "      <td>-0.537751</td>\n",
       "      <td>1.289351</td>\n",
       "      <td>0.644187</td>\n",
       "      <td>-0.420210</td>\n",
       "    </tr>\n",
       "  </tbody>\n",
       "</table>\n",
       "</div>"
      ],
      "text/plain": [
       "                   A         B         C         D\n",
       "2019-03-01  0.488070  0.977446 -1.078024  0.304832\n",
       "2019-03-02 -0.094294  0.116606  1.331697 -0.379628\n",
       "2019-03-03 -0.537751  1.289351  0.644187 -0.420210"
      ]
     },
     "execution_count": 21,
     "metadata": {},
     "output_type": "execute_result"
    }
   ],
   "source": [
    "df[0:3] #인덱스 0~2번까지만 출력하기!"
   ]
  },
  {
   "cell_type": "code",
   "execution_count": 22,
   "metadata": {},
   "outputs": [
    {
     "data": {
      "text/html": [
       "<div>\n",
       "<style scoped>\n",
       "    .dataframe tbody tr th:only-of-type {\n",
       "        vertical-align: middle;\n",
       "    }\n",
       "\n",
       "    .dataframe tbody tr th {\n",
       "        vertical-align: top;\n",
       "    }\n",
       "\n",
       "    .dataframe thead th {\n",
       "        text-align: right;\n",
       "    }\n",
       "</style>\n",
       "<table border=\"1\" class=\"dataframe\">\n",
       "  <thead>\n",
       "    <tr style=\"text-align: right;\">\n",
       "      <th></th>\n",
       "      <th>A</th>\n",
       "      <th>B</th>\n",
       "      <th>C</th>\n",
       "      <th>D</th>\n",
       "    </tr>\n",
       "  </thead>\n",
       "  <tbody>\n",
       "    <tr>\n",
       "      <th>2019-03-01</th>\n",
       "      <td>0.488070</td>\n",
       "      <td>0.977446</td>\n",
       "      <td>-1.078024</td>\n",
       "      <td>0.304832</td>\n",
       "    </tr>\n",
       "    <tr>\n",
       "      <th>2019-03-02</th>\n",
       "      <td>-0.094294</td>\n",
       "      <td>0.116606</td>\n",
       "      <td>1.331697</td>\n",
       "      <td>-0.379628</td>\n",
       "    </tr>\n",
       "    <tr>\n",
       "      <th>2019-03-03</th>\n",
       "      <td>-0.537751</td>\n",
       "      <td>1.289351</td>\n",
       "      <td>0.644187</td>\n",
       "      <td>-0.420210</td>\n",
       "    </tr>\n",
       "  </tbody>\n",
       "</table>\n",
       "</div>"
      ],
      "text/plain": [
       "                   A         B         C         D\n",
       "2019-03-01  0.488070  0.977446 -1.078024  0.304832\n",
       "2019-03-02 -0.094294  0.116606  1.331697 -0.379628\n",
       "2019-03-03 -0.537751  1.289351  0.644187 -0.420210"
      ]
     },
     "execution_count": 22,
     "metadata": {},
     "output_type": "execute_result"
    }
   ],
   "source": [
    "df.iloc[0:3] # == df[0:3] 같은 의미이다 iloc도 괜챃고 그냥 인덱스로도 가능하다."
   ]
  },
  {
   "cell_type": "code",
   "execution_count": 23,
   "metadata": {},
   "outputs": [
    {
     "data": {
      "text/plain": [
       "A    0.488070\n",
       "B    0.977446\n",
       "C   -1.078024\n",
       "D    0.304832\n",
       "Name: 2019-03-01 00:00:00, dtype: float64"
      ]
     },
     "execution_count": 23,
     "metadata": {},
     "output_type": "execute_result"
    }
   ],
   "source": [
    "df.loc[\"2019-03-01\"] # loc는 하나의 행을 추출할 수 있다(해당 인덱스에 있는 전체 열(row)값을 추출)"
   ]
  },
  {
   "cell_type": "code",
   "execution_count": 24,
   "metadata": {},
   "outputs": [
    {
     "data": {
      "text/plain": [
       "0.48807031484733376"
      ]
     },
     "execution_count": 24,
     "metadata": {},
     "output_type": "execute_result"
    }
   ],
   "source": [
    "df.loc[\"2019-03-01\", \"A\"] # 범위 안에 하나만 쓰면 무조건 행이다!\n",
    "# 2019-03-01의 행에 있는 값중에 A를 출력해라!"
   ]
  },
  {
   "cell_type": "code",
   "execution_count": 25,
   "metadata": {},
   "outputs": [
    {
     "data": {
      "text/plain": [
       "A    0.488070\n",
       "C   -1.078024\n",
       "Name: 2019-03-01 00:00:00, dtype: float64"
      ]
     },
     "execution_count": 25,
     "metadata": {},
     "output_type": "execute_result"
    }
   ],
   "source": [
    "df.loc[\"2019-03-01\", [\"A\", \"C\"]]\n",
    "# 2019-03-01의 행에 있는 A와 C값을 추출! 행자리를 비우면 렬값만 출력 가능!"
   ]
  },
  {
   "cell_type": "code",
   "execution_count": 27,
   "metadata": {},
   "outputs": [],
   "source": [
    "# df.loc[행]\n",
    "# df.loc[행, 열]\n",
    "# df.loc[ , 열] # 열만 추출한다."
   ]
  },
  {
   "cell_type": "code",
   "execution_count": 28,
   "metadata": {},
   "outputs": [
    {
     "data": {
      "text/plain": [
       "2019-03-01    0.488070\n",
       "2019-03-02   -0.094294\n",
       "2019-03-03   -0.537751\n",
       "2019-03-04   -0.061353\n",
       "2019-03-05   -0.309377\n",
       "2019-03-06    0.182177\n",
       "Freq: D, Name: A, dtype: float64"
      ]
     },
     "execution_count": 28,
     "metadata": {},
     "output_type": "execute_result"
    }
   ],
   "source": [
    "df.loc[ : , \"A\"] # A 열에 있는 모든 행의 값을 추출 첫번째 행으 값을 생략하면 열의 모든 값을 출력한다."
   ]
  },
  {
   "cell_type": "code",
   "execution_count": 30,
   "metadata": {},
   "outputs": [
    {
     "data": {
      "text/html": [
       "<div>\n",
       "<style scoped>\n",
       "    .dataframe tbody tr th:only-of-type {\n",
       "        vertical-align: middle;\n",
       "    }\n",
       "\n",
       "    .dataframe tbody tr th {\n",
       "        vertical-align: top;\n",
       "    }\n",
       "\n",
       "    .dataframe thead th {\n",
       "        text-align: right;\n",
       "    }\n",
       "</style>\n",
       "<table border=\"1\" class=\"dataframe\">\n",
       "  <thead>\n",
       "    <tr style=\"text-align: right;\">\n",
       "      <th></th>\n",
       "      <th>A</th>\n",
       "      <th>C</th>\n",
       "    </tr>\n",
       "  </thead>\n",
       "  <tbody>\n",
       "    <tr>\n",
       "      <th>2019-03-01</th>\n",
       "      <td>0.488070</td>\n",
       "      <td>-1.078024</td>\n",
       "    </tr>\n",
       "    <tr>\n",
       "      <th>2019-03-02</th>\n",
       "      <td>-0.094294</td>\n",
       "      <td>1.331697</td>\n",
       "    </tr>\n",
       "    <tr>\n",
       "      <th>2019-03-03</th>\n",
       "      <td>-0.537751</td>\n",
       "      <td>0.644187</td>\n",
       "    </tr>\n",
       "    <tr>\n",
       "      <th>2019-03-04</th>\n",
       "      <td>-0.061353</td>\n",
       "      <td>0.091094</td>\n",
       "    </tr>\n",
       "    <tr>\n",
       "      <th>2019-03-05</th>\n",
       "      <td>-0.309377</td>\n",
       "      <td>0.297372</td>\n",
       "    </tr>\n",
       "    <tr>\n",
       "      <th>2019-03-06</th>\n",
       "      <td>0.182177</td>\n",
       "      <td>-1.605440</td>\n",
       "    </tr>\n",
       "  </tbody>\n",
       "</table>\n",
       "</div>"
      ],
      "text/plain": [
       "                   A         C\n",
       "2019-03-01  0.488070 -1.078024\n",
       "2019-03-02 -0.094294  1.331697\n",
       "2019-03-03 -0.537751  0.644187\n",
       "2019-03-04 -0.061353  0.091094\n",
       "2019-03-05 -0.309377  0.297372\n",
       "2019-03-06  0.182177 -1.605440"
      ]
     },
     "execution_count": 30,
     "metadata": {},
     "output_type": "execute_result"
    }
   ],
   "source": [
    "df.loc[ : , [\"A\", \"C\"]] # 모든 행에 있는 A열 C열의 값을 가져온다. 행 위치를 생략하면 모든 행 값을 가져온다."
   ]
  },
  {
   "cell_type": "code",
   "execution_count": 31,
   "metadata": {},
   "outputs": [
    {
     "data": {
      "text/html": [
       "<div>\n",
       "<style scoped>\n",
       "    .dataframe tbody tr th:only-of-type {\n",
       "        vertical-align: middle;\n",
       "    }\n",
       "\n",
       "    .dataframe tbody tr th {\n",
       "        vertical-align: top;\n",
       "    }\n",
       "\n",
       "    .dataframe thead th {\n",
       "        text-align: right;\n",
       "    }\n",
       "</style>\n",
       "<table border=\"1\" class=\"dataframe\">\n",
       "  <thead>\n",
       "    <tr style=\"text-align: right;\">\n",
       "      <th></th>\n",
       "      <th>A</th>\n",
       "      <th>B</th>\n",
       "      <th>C</th>\n",
       "    </tr>\n",
       "  </thead>\n",
       "  <tbody>\n",
       "    <tr>\n",
       "      <th>2019-03-01</th>\n",
       "      <td>0.488070</td>\n",
       "      <td>0.977446</td>\n",
       "      <td>-1.078024</td>\n",
       "    </tr>\n",
       "    <tr>\n",
       "      <th>2019-03-02</th>\n",
       "      <td>-0.094294</td>\n",
       "      <td>0.116606</td>\n",
       "      <td>1.331697</td>\n",
       "    </tr>\n",
       "    <tr>\n",
       "      <th>2019-03-03</th>\n",
       "      <td>-0.537751</td>\n",
       "      <td>1.289351</td>\n",
       "      <td>0.644187</td>\n",
       "    </tr>\n",
       "    <tr>\n",
       "      <th>2019-03-04</th>\n",
       "      <td>-0.061353</td>\n",
       "      <td>-0.306427</td>\n",
       "      <td>0.091094</td>\n",
       "    </tr>\n",
       "    <tr>\n",
       "      <th>2019-03-05</th>\n",
       "      <td>-0.309377</td>\n",
       "      <td>0.501087</td>\n",
       "      <td>0.297372</td>\n",
       "    </tr>\n",
       "    <tr>\n",
       "      <th>2019-03-06</th>\n",
       "      <td>0.182177</td>\n",
       "      <td>-0.167308</td>\n",
       "      <td>-1.605440</td>\n",
       "    </tr>\n",
       "  </tbody>\n",
       "</table>\n",
       "</div>"
      ],
      "text/plain": [
       "                   A         B         C\n",
       "2019-03-01  0.488070  0.977446 -1.078024\n",
       "2019-03-02 -0.094294  0.116606  1.331697\n",
       "2019-03-03 -0.537751  1.289351  0.644187\n",
       "2019-03-04 -0.061353 -0.306427  0.091094\n",
       "2019-03-05 -0.309377  0.501087  0.297372\n",
       "2019-03-06  0.182177 -0.167308 -1.605440"
      ]
     },
     "execution_count": 31,
     "metadata": {},
     "output_type": "execute_result"
    }
   ],
   "source": [
    "df.loc[ : , \"A\":\"C\"] # 범위를 지정할때는 []를 사용할 수 없다.\n",
    "# A ~ C까지 범위를 잡고 추출 했기 때문에 [] 사용하지 않음."
   ]
  },
  {
   "cell_type": "code",
   "execution_count": 32,
   "metadata": {},
   "outputs": [
    {
     "data": {
      "text/plain": [
       "A    0.488070\n",
       "B    0.977446\n",
       "C   -1.078024\n",
       "D    0.304832\n",
       "Name: 2019-03-01 00:00:00, dtype: float64"
      ]
     },
     "execution_count": 32,
     "metadata": {},
     "output_type": "execute_result"
    }
   ],
   "source": [
    "df.iloc[0] # 첫번째 행에 대한 값이 나옴(행:2019-03-01)"
   ]
  },
  {
   "cell_type": "code",
   "execution_count": 33,
   "metadata": {},
   "outputs": [
    {
     "data": {
      "text/plain": [
       "(6, 4)"
      ]
     },
     "execution_count": 33,
     "metadata": {},
     "output_type": "execute_result"
    }
   ],
   "source": [
    "df.shape # 행렬 전체 크기 확인하기"
   ]
  },
  {
   "cell_type": "code",
   "execution_count": 34,
   "metadata": {},
   "outputs": [
    {
     "data": {
      "text/plain": [
       "A    0.182177\n",
       "B   -0.167308\n",
       "C   -1.605440\n",
       "D   -0.288352\n",
       "Name: 2019-03-06 00:00:00, dtype: float64"
      ]
     },
     "execution_count": 34,
     "metadata": {},
     "output_type": "execute_result"
    }
   ],
   "source": [
    "df.iloc[5] # 6번째 행에 있는 값 추출! 하나만 쓰면 행 슬라이싱! 열은 혼자 올 수 없다."
   ]
  },
  {
   "cell_type": "code",
   "execution_count": 35,
   "metadata": {},
   "outputs": [
    {
     "data": {
      "text/html": [
       "<div>\n",
       "<style scoped>\n",
       "    .dataframe tbody tr th:only-of-type {\n",
       "        vertical-align: middle;\n",
       "    }\n",
       "\n",
       "    .dataframe tbody tr th {\n",
       "        vertical-align: top;\n",
       "    }\n",
       "\n",
       "    .dataframe thead th {\n",
       "        text-align: right;\n",
       "    }\n",
       "</style>\n",
       "<table border=\"1\" class=\"dataframe\">\n",
       "  <thead>\n",
       "    <tr style=\"text-align: right;\">\n",
       "      <th></th>\n",
       "      <th>A</th>\n",
       "      <th>B</th>\n",
       "      <th>C</th>\n",
       "      <th>D</th>\n",
       "    </tr>\n",
       "  </thead>\n",
       "  <tbody>\n",
       "    <tr>\n",
       "      <th>2019-03-04</th>\n",
       "      <td>-0.061353</td>\n",
       "      <td>-0.306427</td>\n",
       "      <td>0.091094</td>\n",
       "      <td>0.603449</td>\n",
       "    </tr>\n",
       "    <tr>\n",
       "      <th>2019-03-05</th>\n",
       "      <td>-0.309377</td>\n",
       "      <td>0.501087</td>\n",
       "      <td>0.297372</td>\n",
       "      <td>1.147860</td>\n",
       "    </tr>\n",
       "  </tbody>\n",
       "</table>\n",
       "</div>"
      ],
      "text/plain": [
       "                   A         B         C         D\n",
       "2019-03-04 -0.061353 -0.306427  0.091094  0.603449\n",
       "2019-03-05 -0.309377  0.501087  0.297372  1.147860"
      ]
     },
     "execution_count": 35,
     "metadata": {},
     "output_type": "execute_result"
    }
   ],
   "source": [
    "df.iloc[3:5] # 3번행부터 4번행까지 추출! 범위를 지정해줄때는 : 사용"
   ]
  },
  {
   "cell_type": "code",
   "execution_count": 36,
   "metadata": {},
   "outputs": [
    {
     "data": {
      "text/html": [
       "<div>\n",
       "<style scoped>\n",
       "    .dataframe tbody tr th:only-of-type {\n",
       "        vertical-align: middle;\n",
       "    }\n",
       "\n",
       "    .dataframe tbody tr th {\n",
       "        vertical-align: top;\n",
       "    }\n",
       "\n",
       "    .dataframe thead th {\n",
       "        text-align: right;\n",
       "    }\n",
       "</style>\n",
       "<table border=\"1\" class=\"dataframe\">\n",
       "  <thead>\n",
       "    <tr style=\"text-align: right;\">\n",
       "      <th></th>\n",
       "      <th>A</th>\n",
       "      <th>B</th>\n",
       "      <th>C</th>\n",
       "      <th>D</th>\n",
       "    </tr>\n",
       "  </thead>\n",
       "  <tbody>\n",
       "    <tr>\n",
       "      <th>2019-03-04</th>\n",
       "      <td>-0.061353</td>\n",
       "      <td>-0.306427</td>\n",
       "      <td>0.091094</td>\n",
       "      <td>0.603449</td>\n",
       "    </tr>\n",
       "    <tr>\n",
       "      <th>2019-03-05</th>\n",
       "      <td>-0.309377</td>\n",
       "      <td>0.501087</td>\n",
       "      <td>0.297372</td>\n",
       "      <td>1.147860</td>\n",
       "    </tr>\n",
       "  </tbody>\n",
       "</table>\n",
       "</div>"
      ],
      "text/plain": [
       "                   A         B         C         D\n",
       "2019-03-04 -0.061353 -0.306427  0.091094  0.603449\n",
       "2019-03-05 -0.309377  0.501087  0.297372  1.147860"
      ]
     },
     "execution_count": 36,
     "metadata": {},
     "output_type": "execute_result"
    }
   ],
   "source": [
    "imsi = df.iloc[3:5] # iloc, loc는 비파괴, 원본을 변경시키지 않고 일부만 추출한다.\n",
    "imsi # 변수에 넣어서 사용할 수 있다. 일부만 가지고 여러가지 처리를 수행하는 경우 변수에 넣어서 사용한다."
   ]
  },
  {
   "cell_type": "code",
   "execution_count": 37,
   "metadata": {},
   "outputs": [
    {
     "data": {
      "text/html": [
       "<div>\n",
       "<style scoped>\n",
       "    .dataframe tbody tr th:only-of-type {\n",
       "        vertical-align: middle;\n",
       "    }\n",
       "\n",
       "    .dataframe tbody tr th {\n",
       "        vertical-align: top;\n",
       "    }\n",
       "\n",
       "    .dataframe thead th {\n",
       "        text-align: right;\n",
       "    }\n",
       "</style>\n",
       "<table border=\"1\" class=\"dataframe\">\n",
       "  <thead>\n",
       "    <tr style=\"text-align: right;\">\n",
       "      <th></th>\n",
       "      <th>A</th>\n",
       "      <th>B</th>\n",
       "      <th>C</th>\n",
       "      <th>D</th>\n",
       "    </tr>\n",
       "  </thead>\n",
       "  <tbody>\n",
       "    <tr>\n",
       "      <th>2019-03-01</th>\n",
       "      <td>0.488070</td>\n",
       "      <td>0.977446</td>\n",
       "      <td>-1.078024</td>\n",
       "      <td>0.304832</td>\n",
       "    </tr>\n",
       "    <tr>\n",
       "      <th>2019-03-02</th>\n",
       "      <td>-0.094294</td>\n",
       "      <td>0.116606</td>\n",
       "      <td>1.331697</td>\n",
       "      <td>-0.379628</td>\n",
       "    </tr>\n",
       "    <tr>\n",
       "      <th>2019-03-03</th>\n",
       "      <td>-0.537751</td>\n",
       "      <td>1.289351</td>\n",
       "      <td>0.644187</td>\n",
       "      <td>-0.420210</td>\n",
       "    </tr>\n",
       "    <tr>\n",
       "      <th>2019-03-04</th>\n",
       "      <td>-0.061353</td>\n",
       "      <td>-0.306427</td>\n",
       "      <td>0.091094</td>\n",
       "      <td>0.603449</td>\n",
       "    </tr>\n",
       "    <tr>\n",
       "      <th>2019-03-05</th>\n",
       "      <td>-0.309377</td>\n",
       "      <td>0.501087</td>\n",
       "      <td>0.297372</td>\n",
       "      <td>1.147860</td>\n",
       "    </tr>\n",
       "    <tr>\n",
       "      <th>2019-03-06</th>\n",
       "      <td>0.182177</td>\n",
       "      <td>-0.167308</td>\n",
       "      <td>-1.605440</td>\n",
       "      <td>-0.288352</td>\n",
       "    </tr>\n",
       "  </tbody>\n",
       "</table>\n",
       "</div>"
      ],
      "text/plain": [
       "                   A         B         C         D\n",
       "2019-03-01  0.488070  0.977446 -1.078024  0.304832\n",
       "2019-03-02 -0.094294  0.116606  1.331697 -0.379628\n",
       "2019-03-03 -0.537751  1.289351  0.644187 -0.420210\n",
       "2019-03-04 -0.061353 -0.306427  0.091094  0.603449\n",
       "2019-03-05 -0.309377  0.501087  0.297372  1.147860\n",
       "2019-03-06  0.182177 -0.167308 -1.605440 -0.288352"
      ]
     },
     "execution_count": 37,
     "metadata": {},
     "output_type": "execute_result"
    }
   ],
   "source": [
    "df.iloc[:] # 행을 지정하지 않았기 때문에 모든 행 전체 출력"
   ]
  },
  {
   "cell_type": "code",
   "execution_count": 38,
   "metadata": {},
   "outputs": [
    {
     "data": {
      "text/plain": [
       "2019-03-04   -0.061353\n",
       "2019-03-05   -0.309377\n",
       "Freq: D, Name: A, dtype: float64"
      ]
     },
     "execution_count": 38,
     "metadata": {},
     "output_type": "execute_result"
    }
   ],
   "source": [
    "df.iloc[3:5, 0]  # 3~4행에 있는 첫번째 열의 값을 출력!"
   ]
  },
  {
   "cell_type": "code",
   "execution_count": 39,
   "metadata": {},
   "outputs": [
    {
     "data": {
      "text/html": [
       "<div>\n",
       "<style scoped>\n",
       "    .dataframe tbody tr th:only-of-type {\n",
       "        vertical-align: middle;\n",
       "    }\n",
       "\n",
       "    .dataframe tbody tr th {\n",
       "        vertical-align: top;\n",
       "    }\n",
       "\n",
       "    .dataframe thead th {\n",
       "        text-align: right;\n",
       "    }\n",
       "</style>\n",
       "<table border=\"1\" class=\"dataframe\">\n",
       "  <thead>\n",
       "    <tr style=\"text-align: right;\">\n",
       "      <th></th>\n",
       "      <th>A</th>\n",
       "      <th>B</th>\n",
       "      <th>C</th>\n",
       "      <th>D</th>\n",
       "    </tr>\n",
       "  </thead>\n",
       "  <tbody>\n",
       "    <tr>\n",
       "      <th>2019-03-05</th>\n",
       "      <td>-0.309377</td>\n",
       "      <td>0.501087</td>\n",
       "      <td>0.297372</td>\n",
       "      <td>1.147860</td>\n",
       "    </tr>\n",
       "    <tr>\n",
       "      <th>2019-03-06</th>\n",
       "      <td>0.182177</td>\n",
       "      <td>-0.167308</td>\n",
       "      <td>-1.605440</td>\n",
       "      <td>-0.288352</td>\n",
       "    </tr>\n",
       "  </tbody>\n",
       "</table>\n",
       "</div>"
      ],
      "text/plain": [
       "                   A         B         C         D\n",
       "2019-03-05 -0.309377  0.501087  0.297372  1.147860\n",
       "2019-03-06  0.182177 -0.167308 -1.605440 -0.288352"
      ]
     },
     "execution_count": 39,
     "metadata": {},
     "output_type": "execute_result"
    }
   ],
   "source": [
    "df.iloc[4:] # 4부터 끝까지 추출"
   ]
  },
  {
   "cell_type": "code",
   "execution_count": 40,
   "metadata": {},
   "outputs": [
    {
     "data": {
      "text/html": [
       "<div>\n",
       "<style scoped>\n",
       "    .dataframe tbody tr th:only-of-type {\n",
       "        vertical-align: middle;\n",
       "    }\n",
       "\n",
       "    .dataframe tbody tr th {\n",
       "        vertical-align: top;\n",
       "    }\n",
       "\n",
       "    .dataframe thead th {\n",
       "        text-align: right;\n",
       "    }\n",
       "</style>\n",
       "<table border=\"1\" class=\"dataframe\">\n",
       "  <thead>\n",
       "    <tr style=\"text-align: right;\">\n",
       "      <th></th>\n",
       "      <th>A</th>\n",
       "      <th>B</th>\n",
       "      <th>C</th>\n",
       "      <th>D</th>\n",
       "    </tr>\n",
       "  </thead>\n",
       "  <tbody>\n",
       "    <tr>\n",
       "      <th>2019-03-01</th>\n",
       "      <td>0.488070</td>\n",
       "      <td>0.977446</td>\n",
       "      <td>-1.078024</td>\n",
       "      <td>0.304832</td>\n",
       "    </tr>\n",
       "    <tr>\n",
       "      <th>2019-03-02</th>\n",
       "      <td>-0.094294</td>\n",
       "      <td>0.116606</td>\n",
       "      <td>1.331697</td>\n",
       "      <td>-0.379628</td>\n",
       "    </tr>\n",
       "    <tr>\n",
       "      <th>2019-03-03</th>\n",
       "      <td>-0.537751</td>\n",
       "      <td>1.289351</td>\n",
       "      <td>0.644187</td>\n",
       "      <td>-0.420210</td>\n",
       "    </tr>\n",
       "    <tr>\n",
       "      <th>2019-03-04</th>\n",
       "      <td>-0.061353</td>\n",
       "      <td>-0.306427</td>\n",
       "      <td>0.091094</td>\n",
       "      <td>0.603449</td>\n",
       "    </tr>\n",
       "  </tbody>\n",
       "</table>\n",
       "</div>"
      ],
      "text/plain": [
       "                   A         B         C         D\n",
       "2019-03-01  0.488070  0.977446 -1.078024  0.304832\n",
       "2019-03-02 -0.094294  0.116606  1.331697 -0.379628\n",
       "2019-03-03 -0.537751  1.289351  0.644187 -0.420210\n",
       "2019-03-04 -0.061353 -0.306427  0.091094  0.603449"
      ]
     },
     "execution_count": 40,
     "metadata": {},
     "output_type": "execute_result"
    }
   ],
   "source": [
    "df.iloc[:4] # 3부터 앞으로 끝까지"
   ]
  },
  {
   "cell_type": "code",
   "execution_count": 41,
   "metadata": {},
   "outputs": [
    {
     "data": {
      "text/html": [
       "<div>\n",
       "<style scoped>\n",
       "    .dataframe tbody tr th:only-of-type {\n",
       "        vertical-align: middle;\n",
       "    }\n",
       "\n",
       "    .dataframe tbody tr th {\n",
       "        vertical-align: top;\n",
       "    }\n",
       "\n",
       "    .dataframe thead th {\n",
       "        text-align: right;\n",
       "    }\n",
       "</style>\n",
       "<table border=\"1\" class=\"dataframe\">\n",
       "  <thead>\n",
       "    <tr style=\"text-align: right;\">\n",
       "      <th></th>\n",
       "      <th>A</th>\n",
       "      <th>B</th>\n",
       "      <th>C</th>\n",
       "    </tr>\n",
       "  </thead>\n",
       "  <tbody>\n",
       "    <tr>\n",
       "      <th>2019-03-04</th>\n",
       "      <td>-0.061353</td>\n",
       "      <td>-0.306427</td>\n",
       "      <td>0.091094</td>\n",
       "    </tr>\n",
       "    <tr>\n",
       "      <th>2019-03-05</th>\n",
       "      <td>-0.309377</td>\n",
       "      <td>0.501087</td>\n",
       "      <td>0.297372</td>\n",
       "    </tr>\n",
       "  </tbody>\n",
       "</table>\n",
       "</div>"
      ],
      "text/plain": [
       "                   A         B         C\n",
       "2019-03-04 -0.061353 -0.306427  0.091094\n",
       "2019-03-05 -0.309377  0.501087  0.297372"
      ]
     },
     "execution_count": 41,
     "metadata": {},
     "output_type": "execute_result"
    }
   ],
   "source": [
    "df.iloc[3:5, 0:3] # 3~4번째 행에 있는 0~2번째 열의 값을 추출!"
   ]
  },
  {
   "cell_type": "code",
   "execution_count": 42,
   "metadata": {},
   "outputs": [
    {
     "data": {
      "text/plain": [
       "2019-03-01    0.488070\n",
       "2019-03-02   -0.094294\n",
       "2019-03-03   -0.537751\n",
       "2019-03-04   -0.061353\n",
       "2019-03-05   -0.309377\n",
       "2019-03-06    0.182177\n",
       "Freq: D, Name: A, dtype: float64"
      ]
     },
     "execution_count": 42,
     "metadata": {},
     "output_type": "execute_result"
    }
   ],
   "source": [
    "df.iloc[ :, 0] # 0열(A)에 있는 모든 행을 추출"
   ]
  },
  {
   "cell_type": "code",
   "execution_count": 43,
   "metadata": {},
   "outputs": [
    {
     "data": {
      "text/plain": [
       "dtype('float64')"
      ]
     },
     "execution_count": 43,
     "metadata": {},
     "output_type": "execute_result"
    }
   ],
   "source": [
    "df.A.dtype # A열에 대한 data type을 알아보기 위한 출력"
   ]
  },
  {
   "cell_type": "code",
   "execution_count": 44,
   "metadata": {},
   "outputs": [
    {
     "data": {
      "text/html": [
       "<div>\n",
       "<style scoped>\n",
       "    .dataframe tbody tr th:only-of-type {\n",
       "        vertical-align: middle;\n",
       "    }\n",
       "\n",
       "    .dataframe tbody tr th {\n",
       "        vertical-align: top;\n",
       "    }\n",
       "\n",
       "    .dataframe thead th {\n",
       "        text-align: right;\n",
       "    }\n",
       "</style>\n",
       "<table border=\"1\" class=\"dataframe\">\n",
       "  <thead>\n",
       "    <tr style=\"text-align: right;\">\n",
       "      <th></th>\n",
       "      <th>B</th>\n",
       "      <th>C</th>\n",
       "      <th>D</th>\n",
       "    </tr>\n",
       "  </thead>\n",
       "  <tbody>\n",
       "    <tr>\n",
       "      <th>2019-03-01</th>\n",
       "      <td>0.977446</td>\n",
       "      <td>-1.078024</td>\n",
       "      <td>0.304832</td>\n",
       "    </tr>\n",
       "    <tr>\n",
       "      <th>2019-03-02</th>\n",
       "      <td>0.116606</td>\n",
       "      <td>1.331697</td>\n",
       "      <td>-0.379628</td>\n",
       "    </tr>\n",
       "    <tr>\n",
       "      <th>2019-03-03</th>\n",
       "      <td>1.289351</td>\n",
       "      <td>0.644187</td>\n",
       "      <td>-0.420210</td>\n",
       "    </tr>\n",
       "  </tbody>\n",
       "</table>\n",
       "</div>"
      ],
      "text/plain": [
       "                   B         C         D\n",
       "2019-03-01  0.977446 -1.078024  0.304832\n",
       "2019-03-02  0.116606  1.331697 -0.379628\n",
       "2019-03-03  1.289351  0.644187 -0.420210"
      ]
     },
     "execution_count": 44,
     "metadata": {},
     "output_type": "execute_result"
    }
   ],
   "source": [
    "df.iloc[:3, 1:4] # 0~2의 행의 1~3까지의 열을 추출!"
   ]
  },
  {
   "cell_type": "code",
   "execution_count": 46,
   "metadata": {},
   "outputs": [
    {
     "data": {
      "text/html": [
       "<div>\n",
       "<style scoped>\n",
       "    .dataframe tbody tr th:only-of-type {\n",
       "        vertical-align: middle;\n",
       "    }\n",
       "\n",
       "    .dataframe tbody tr th {\n",
       "        vertical-align: top;\n",
       "    }\n",
       "\n",
       "    .dataframe thead th {\n",
       "        text-align: right;\n",
       "    }\n",
       "</style>\n",
       "<table border=\"1\" class=\"dataframe\">\n",
       "  <thead>\n",
       "    <tr style=\"text-align: right;\">\n",
       "      <th></th>\n",
       "      <th>B</th>\n",
       "      <th>D</th>\n",
       "    </tr>\n",
       "  </thead>\n",
       "  <tbody>\n",
       "    <tr>\n",
       "      <th>2019-03-01</th>\n",
       "      <td>0.977446</td>\n",
       "      <td>0.304832</td>\n",
       "    </tr>\n",
       "    <tr>\n",
       "      <th>2019-03-04</th>\n",
       "      <td>-0.306427</td>\n",
       "      <td>0.603449</td>\n",
       "    </tr>\n",
       "  </tbody>\n",
       "</table>\n",
       "</div>"
      ],
      "text/plain": [
       "                   B         D\n",
       "2019-03-01  0.977446  0.304832\n",
       "2019-03-04 -0.306427  0.603449"
      ]
     },
     "execution_count": 46,
     "metadata": {},
     "output_type": "execute_result"
    }
   ],
   "source": [
    "df.iloc[[0, 3], [1, 3]] # 일부분만 추출할때는 리스트[]를 사용하면 된다.\n",
    "# 0번째 3번째 행에서 1번째 3번째 열의 값을 추출!"
   ]
  },
  {
   "cell_type": "code",
   "execution_count": 47,
   "metadata": {},
   "outputs": [
    {
     "data": {
      "text/plain": [
       "2019-03-01     True\n",
       "2019-03-02    False\n",
       "2019-03-03    False\n",
       "2019-03-04    False\n",
       "2019-03-05    False\n",
       "2019-03-06     True\n",
       "Freq: D, Name: A, dtype: bool"
      ]
     },
     "execution_count": 47,
     "metadata": {},
     "output_type": "execute_result"
    }
   ],
   "source": [
    "df[\"A\"] > 0 # 브로드캐스팅 => 모든행을 전부다 돌면서 확인한다."
   ]
  },
  {
   "cell_type": "code",
   "execution_count": 50,
   "metadata": {},
   "outputs": [
    {
     "data": {
      "text/html": [
       "<div>\n",
       "<style scoped>\n",
       "    .dataframe tbody tr th:only-of-type {\n",
       "        vertical-align: middle;\n",
       "    }\n",
       "\n",
       "    .dataframe tbody tr th {\n",
       "        vertical-align: top;\n",
       "    }\n",
       "\n",
       "    .dataframe thead th {\n",
       "        text-align: right;\n",
       "    }\n",
       "</style>\n",
       "<table border=\"1\" class=\"dataframe\">\n",
       "  <thead>\n",
       "    <tr style=\"text-align: right;\">\n",
       "      <th></th>\n",
       "      <th>A</th>\n",
       "      <th>B</th>\n",
       "      <th>C</th>\n",
       "      <th>D</th>\n",
       "    </tr>\n",
       "  </thead>\n",
       "  <tbody>\n",
       "    <tr>\n",
       "      <th>2019-03-01</th>\n",
       "      <td>0.488070</td>\n",
       "      <td>0.977446</td>\n",
       "      <td>-1.078024</td>\n",
       "      <td>0.304832</td>\n",
       "    </tr>\n",
       "    <tr>\n",
       "      <th>2019-03-06</th>\n",
       "      <td>0.182177</td>\n",
       "      <td>-0.167308</td>\n",
       "      <td>-1.605440</td>\n",
       "      <td>-0.288352</td>\n",
       "    </tr>\n",
       "  </tbody>\n",
       "</table>\n",
       "</div>"
      ],
      "text/plain": [
       "                   A         B         C         D\n",
       "2019-03-01  0.488070  0.977446 -1.078024  0.304832\n",
       "2019-03-06  0.182177 -0.167308 -1.605440 -0.288352"
      ]
     },
     "execution_count": 50,
     "metadata": {},
     "output_type": "execute_result"
    }
   ],
   "source": [
    "df[df[\"A\"] > 0] # df[\"A\"] > 0인 boolean 값 중 true 인 값들만 추출해라"
   ]
  },
  {
   "cell_type": "code",
   "execution_count": 51,
   "metadata": {},
   "outputs": [
    {
     "data": {
      "text/html": [
       "<div>\n",
       "<style scoped>\n",
       "    .dataframe tbody tr th:only-of-type {\n",
       "        vertical-align: middle;\n",
       "    }\n",
       "\n",
       "    .dataframe tbody tr th {\n",
       "        vertical-align: top;\n",
       "    }\n",
       "\n",
       "    .dataframe thead th {\n",
       "        text-align: right;\n",
       "    }\n",
       "</style>\n",
       "<table border=\"1\" class=\"dataframe\">\n",
       "  <thead>\n",
       "    <tr style=\"text-align: right;\">\n",
       "      <th></th>\n",
       "      <th>A</th>\n",
       "      <th>B</th>\n",
       "      <th>C</th>\n",
       "      <th>D</th>\n",
       "      <th>E</th>\n",
       "    </tr>\n",
       "  </thead>\n",
       "  <tbody>\n",
       "    <tr>\n",
       "      <th>2019-03-01</th>\n",
       "      <td>0.488070</td>\n",
       "      <td>0.977446</td>\n",
       "      <td>-1.078024</td>\n",
       "      <td>0.304832</td>\n",
       "      <td>0</td>\n",
       "    </tr>\n",
       "    <tr>\n",
       "      <th>2019-03-02</th>\n",
       "      <td>-0.094294</td>\n",
       "      <td>0.116606</td>\n",
       "      <td>1.331697</td>\n",
       "      <td>-0.379628</td>\n",
       "      <td>0</td>\n",
       "    </tr>\n",
       "    <tr>\n",
       "      <th>2019-03-03</th>\n",
       "      <td>-0.537751</td>\n",
       "      <td>1.289351</td>\n",
       "      <td>0.644187</td>\n",
       "      <td>-0.420210</td>\n",
       "      <td>0</td>\n",
       "    </tr>\n",
       "    <tr>\n",
       "      <th>2019-03-04</th>\n",
       "      <td>-0.061353</td>\n",
       "      <td>-0.306427</td>\n",
       "      <td>0.091094</td>\n",
       "      <td>0.603449</td>\n",
       "      <td>0</td>\n",
       "    </tr>\n",
       "    <tr>\n",
       "      <th>2019-03-05</th>\n",
       "      <td>-0.309377</td>\n",
       "      <td>0.501087</td>\n",
       "      <td>0.297372</td>\n",
       "      <td>1.147860</td>\n",
       "      <td>0</td>\n",
       "    </tr>\n",
       "    <tr>\n",
       "      <th>2019-03-06</th>\n",
       "      <td>0.182177</td>\n",
       "      <td>-0.167308</td>\n",
       "      <td>-1.605440</td>\n",
       "      <td>-0.288352</td>\n",
       "      <td>0</td>\n",
       "    </tr>\n",
       "  </tbody>\n",
       "</table>\n",
       "</div>"
      ],
      "text/plain": [
       "                   A         B         C         D  E\n",
       "2019-03-01  0.488070  0.977446 -1.078024  0.304832  0\n",
       "2019-03-02 -0.094294  0.116606  1.331697 -0.379628  0\n",
       "2019-03-03 -0.537751  1.289351  0.644187 -0.420210  0\n",
       "2019-03-04 -0.061353 -0.306427  0.091094  0.603449  0\n",
       "2019-03-05 -0.309377  0.501087  0.297372  1.147860  0\n",
       "2019-03-06  0.182177 -0.167308 -1.605440 -0.288352  0"
      ]
     },
     "execution_count": 51,
     "metadata": {},
     "output_type": "execute_result"
    }
   ],
   "source": [
    "# 파생변수 => 열을 추가하는 것!\n",
    "# df[\"파생변수이름\"] = 값(리스트형태)\n",
    "df[\"E\"] = 0 # 마지막 E라는 컬럼을 추가하고 값은 0으로 넣어줘라! (동일한 값 지정시 동일하게 들어감)\n",
    "df"
   ]
  },
  {
   "cell_type": "code",
   "execution_count": 56,
   "metadata": {},
   "outputs": [
    {
     "data": {
      "text/html": [
       "<div>\n",
       "<style scoped>\n",
       "    .dataframe tbody tr th:only-of-type {\n",
       "        vertical-align: middle;\n",
       "    }\n",
       "\n",
       "    .dataframe tbody tr th {\n",
       "        vertical-align: top;\n",
       "    }\n",
       "\n",
       "    .dataframe thead th {\n",
       "        text-align: right;\n",
       "    }\n",
       "</style>\n",
       "<table border=\"1\" class=\"dataframe\">\n",
       "  <thead>\n",
       "    <tr style=\"text-align: right;\">\n",
       "      <th></th>\n",
       "      <th>A</th>\n",
       "      <th>B</th>\n",
       "      <th>C</th>\n",
       "      <th>D</th>\n",
       "      <th>E</th>\n",
       "      <th>F</th>\n",
       "    </tr>\n",
       "  </thead>\n",
       "  <tbody>\n",
       "    <tr>\n",
       "      <th>2019-03-01</th>\n",
       "      <td>0.488070</td>\n",
       "      <td>0.977446</td>\n",
       "      <td>-1.078024</td>\n",
       "      <td>0.304832</td>\n",
       "      <td>0</td>\n",
       "      <td>100</td>\n",
       "    </tr>\n",
       "    <tr>\n",
       "      <th>2019-03-02</th>\n",
       "      <td>-0.094294</td>\n",
       "      <td>0.116606</td>\n",
       "      <td>1.331697</td>\n",
       "      <td>-0.379628</td>\n",
       "      <td>0</td>\n",
       "      <td>200</td>\n",
       "    </tr>\n",
       "    <tr>\n",
       "      <th>2019-03-03</th>\n",
       "      <td>-0.537751</td>\n",
       "      <td>1.289351</td>\n",
       "      <td>0.644187</td>\n",
       "      <td>-0.420210</td>\n",
       "      <td>0</td>\n",
       "      <td>300</td>\n",
       "    </tr>\n",
       "    <tr>\n",
       "      <th>2019-03-04</th>\n",
       "      <td>-0.061353</td>\n",
       "      <td>-0.306427</td>\n",
       "      <td>0.091094</td>\n",
       "      <td>0.603449</td>\n",
       "      <td>0</td>\n",
       "      <td>400</td>\n",
       "    </tr>\n",
       "    <tr>\n",
       "      <th>2019-03-05</th>\n",
       "      <td>-0.309377</td>\n",
       "      <td>0.501087</td>\n",
       "      <td>0.297372</td>\n",
       "      <td>1.147860</td>\n",
       "      <td>0</td>\n",
       "      <td>500</td>\n",
       "    </tr>\n",
       "    <tr>\n",
       "      <th>2019-03-06</th>\n",
       "      <td>0.182177</td>\n",
       "      <td>-0.167308</td>\n",
       "      <td>-1.605440</td>\n",
       "      <td>-0.288352</td>\n",
       "      <td>0</td>\n",
       "      <td>600</td>\n",
       "    </tr>\n",
       "  </tbody>\n",
       "</table>\n",
       "</div>"
      ],
      "text/plain": [
       "                   A         B         C         D  E    F\n",
       "2019-03-01  0.488070  0.977446 -1.078024  0.304832  0  100\n",
       "2019-03-02 -0.094294  0.116606  1.331697 -0.379628  0  200\n",
       "2019-03-03 -0.537751  1.289351  0.644187 -0.420210  0  300\n",
       "2019-03-04 -0.061353 -0.306427  0.091094  0.603449  0  400\n",
       "2019-03-05 -0.309377  0.501087  0.297372  1.147860  0  500\n",
       "2019-03-06  0.182177 -0.167308 -1.605440 -0.288352  0  600"
      ]
     },
     "execution_count": 56,
     "metadata": {},
     "output_type": "execute_result"
    }
   ],
   "source": [
    "df[\"F\"] = [100, 200, 300, 400, 500, 600] # 다른값을 입력할때는 리스트 형태로 입력한다.\n",
    "df"
   ]
  },
  {
   "cell_type": "code",
   "execution_count": 60,
   "metadata": {},
   "outputs": [
    {
     "data": {
      "text/html": [
       "<div>\n",
       "<style scoped>\n",
       "    .dataframe tbody tr th:only-of-type {\n",
       "        vertical-align: middle;\n",
       "    }\n",
       "\n",
       "    .dataframe tbody tr th {\n",
       "        vertical-align: top;\n",
       "    }\n",
       "\n",
       "    .dataframe thead th {\n",
       "        text-align: right;\n",
       "    }\n",
       "</style>\n",
       "<table border=\"1\" class=\"dataframe\">\n",
       "  <thead>\n",
       "    <tr style=\"text-align: right;\">\n",
       "      <th></th>\n",
       "      <th>A</th>\n",
       "      <th>B</th>\n",
       "      <th>C</th>\n",
       "      <th>D</th>\n",
       "      <th>E</th>\n",
       "      <th>F</th>\n",
       "      <th>G</th>\n",
       "    </tr>\n",
       "  </thead>\n",
       "  <tbody>\n",
       "    <tr>\n",
       "      <th>2019-03-01</th>\n",
       "      <td>0.488070</td>\n",
       "      <td>0.977446</td>\n",
       "      <td>-1.078024</td>\n",
       "      <td>0.304832</td>\n",
       "      <td>0</td>\n",
       "      <td>100</td>\n",
       "      <td>NaN</td>\n",
       "    </tr>\n",
       "    <tr>\n",
       "      <th>2019-03-02</th>\n",
       "      <td>-0.094294</td>\n",
       "      <td>0.116606</td>\n",
       "      <td>1.331697</td>\n",
       "      <td>-0.379628</td>\n",
       "      <td>0</td>\n",
       "      <td>200</td>\n",
       "      <td>NaN</td>\n",
       "    </tr>\n",
       "    <tr>\n",
       "      <th>2019-03-03</th>\n",
       "      <td>-0.537751</td>\n",
       "      <td>1.289351</td>\n",
       "      <td>0.644187</td>\n",
       "      <td>-0.420210</td>\n",
       "      <td>0</td>\n",
       "      <td>300</td>\n",
       "      <td>NaN</td>\n",
       "    </tr>\n",
       "    <tr>\n",
       "      <th>2019-03-04</th>\n",
       "      <td>-0.061353</td>\n",
       "      <td>-0.306427</td>\n",
       "      <td>0.091094</td>\n",
       "      <td>0.603449</td>\n",
       "      <td>0</td>\n",
       "      <td>400</td>\n",
       "      <td>NaN</td>\n",
       "    </tr>\n",
       "    <tr>\n",
       "      <th>2019-03-05</th>\n",
       "      <td>-0.309377</td>\n",
       "      <td>0.501087</td>\n",
       "      <td>0.297372</td>\n",
       "      <td>1.147860</td>\n",
       "      <td>0</td>\n",
       "      <td>500</td>\n",
       "      <td>NaN</td>\n",
       "    </tr>\n",
       "    <tr>\n",
       "      <th>2019-03-06</th>\n",
       "      <td>0.182177</td>\n",
       "      <td>-0.167308</td>\n",
       "      <td>-1.605440</td>\n",
       "      <td>-0.288352</td>\n",
       "      <td>0</td>\n",
       "      <td>600</td>\n",
       "      <td>NaN</td>\n",
       "    </tr>\n",
       "  </tbody>\n",
       "</table>\n",
       "</div>"
      ],
      "text/plain": [
       "                   A         B         C         D  E    F   G\n",
       "2019-03-01  0.488070  0.977446 -1.078024  0.304832  0  100 NaN\n",
       "2019-03-02 -0.094294  0.116606  1.331697 -0.379628  0  200 NaN\n",
       "2019-03-03 -0.537751  1.289351  0.644187 -0.420210  0  300 NaN\n",
       "2019-03-04 -0.061353 -0.306427  0.091094  0.603449  0  400 NaN\n",
       "2019-03-05 -0.309377  0.501087  0.297372  1.147860  0  500 NaN\n",
       "2019-03-06  0.182177 -0.167308 -1.605440 -0.288352  0  600 NaN"
      ]
     },
     "execution_count": 60,
     "metadata": {},
     "output_type": "execute_result"
    }
   ],
   "source": [
    "df[\"G\"] = np.nan # 빈 값으로 넣을때 numpy 사용해서 결측치로 넣을 수 있다.\n",
    "df"
   ]
  },
  {
   "cell_type": "code",
   "execution_count": 63,
   "metadata": {},
   "outputs": [
    {
     "data": {
      "text/html": [
       "<div>\n",
       "<style scoped>\n",
       "    .dataframe tbody tr th:only-of-type {\n",
       "        vertical-align: middle;\n",
       "    }\n",
       "\n",
       "    .dataframe tbody tr th {\n",
       "        vertical-align: top;\n",
       "    }\n",
       "\n",
       "    .dataframe thead th {\n",
       "        text-align: right;\n",
       "    }\n",
       "</style>\n",
       "<table border=\"1\" class=\"dataframe\">\n",
       "  <thead>\n",
       "    <tr style=\"text-align: right;\">\n",
       "      <th></th>\n",
       "      <th>A</th>\n",
       "      <th>B</th>\n",
       "      <th>C</th>\n",
       "      <th>D</th>\n",
       "      <th>E</th>\n",
       "      <th>F</th>\n",
       "      <th>G</th>\n",
       "      <th>H</th>\n",
       "    </tr>\n",
       "  </thead>\n",
       "  <tbody>\n",
       "    <tr>\n",
       "      <th>2019-03-01</th>\n",
       "      <td>0.488070</td>\n",
       "      <td>0.977446</td>\n",
       "      <td>-1.078024</td>\n",
       "      <td>0.304832</td>\n",
       "      <td>0</td>\n",
       "      <td>100</td>\n",
       "      <td>NaN</td>\n",
       "      <td>1.480613</td>\n",
       "    </tr>\n",
       "    <tr>\n",
       "      <th>2019-03-02</th>\n",
       "      <td>-0.094294</td>\n",
       "      <td>0.116606</td>\n",
       "      <td>1.331697</td>\n",
       "      <td>-0.379628</td>\n",
       "      <td>0</td>\n",
       "      <td>200</td>\n",
       "      <td>NaN</td>\n",
       "      <td>1.480613</td>\n",
       "    </tr>\n",
       "    <tr>\n",
       "      <th>2019-03-03</th>\n",
       "      <td>-0.537751</td>\n",
       "      <td>1.289351</td>\n",
       "      <td>0.644187</td>\n",
       "      <td>-0.420210</td>\n",
       "      <td>0</td>\n",
       "      <td>300</td>\n",
       "      <td>NaN</td>\n",
       "      <td>1.480613</td>\n",
       "    </tr>\n",
       "    <tr>\n",
       "      <th>2019-03-04</th>\n",
       "      <td>-0.061353</td>\n",
       "      <td>-0.306427</td>\n",
       "      <td>0.091094</td>\n",
       "      <td>0.603449</td>\n",
       "      <td>0</td>\n",
       "      <td>400</td>\n",
       "      <td>NaN</td>\n",
       "      <td>1.480613</td>\n",
       "    </tr>\n",
       "    <tr>\n",
       "      <th>2019-03-05</th>\n",
       "      <td>-0.309377</td>\n",
       "      <td>0.501087</td>\n",
       "      <td>0.297372</td>\n",
       "      <td>1.147860</td>\n",
       "      <td>0</td>\n",
       "      <td>500</td>\n",
       "      <td>NaN</td>\n",
       "      <td>1.480613</td>\n",
       "    </tr>\n",
       "    <tr>\n",
       "      <th>2019-03-06</th>\n",
       "      <td>0.182177</td>\n",
       "      <td>-0.167308</td>\n",
       "      <td>-1.605440</td>\n",
       "      <td>-0.288352</td>\n",
       "      <td>0</td>\n",
       "      <td>600</td>\n",
       "      <td>NaN</td>\n",
       "      <td>1.480613</td>\n",
       "    </tr>\n",
       "  </tbody>\n",
       "</table>\n",
       "</div>"
      ],
      "text/plain": [
       "                   A         B         C         D  E    F   G         H\n",
       "2019-03-01  0.488070  0.977446 -1.078024  0.304832  0  100 NaN  1.480613\n",
       "2019-03-02 -0.094294  0.116606  1.331697 -0.379628  0  200 NaN  1.480613\n",
       "2019-03-03 -0.537751  1.289351  0.644187 -0.420210  0  300 NaN  1.480613\n",
       "2019-03-04 -0.061353 -0.306427  0.091094  0.603449  0  400 NaN  1.480613\n",
       "2019-03-05 -0.309377  0.501087  0.297372  1.147860  0  500 NaN  1.480613\n",
       "2019-03-06  0.182177 -0.167308 -1.605440 -0.288352  0  600 NaN  1.480613"
      ]
     },
     "execution_count": 63,
     "metadata": {},
     "output_type": "execute_result"
    }
   ],
   "source": [
    "df[\"H\"] = np.random.randn()\n",
    "df"
   ]
  },
  {
   "cell_type": "code",
   "execution_count": 64,
   "metadata": {},
   "outputs": [
    {
     "data": {
      "text/plain": [
       "0.0"
      ]
     },
     "execution_count": 64,
     "metadata": {},
     "output_type": "execute_result"
    }
   ],
   "source": [
    "df.loc[\"2019-03-02\", \"E\"]"
   ]
  },
  {
   "cell_type": "code",
   "execution_count": 66,
   "metadata": {},
   "outputs": [
    {
     "data": {
      "text/html": [
       "<div>\n",
       "<style scoped>\n",
       "    .dataframe tbody tr th:only-of-type {\n",
       "        vertical-align: middle;\n",
       "    }\n",
       "\n",
       "    .dataframe tbody tr th {\n",
       "        vertical-align: top;\n",
       "    }\n",
       "\n",
       "    .dataframe thead th {\n",
       "        text-align: right;\n",
       "    }\n",
       "</style>\n",
       "<table border=\"1\" class=\"dataframe\">\n",
       "  <thead>\n",
       "    <tr style=\"text-align: right;\">\n",
       "      <th></th>\n",
       "      <th>A</th>\n",
       "      <th>B</th>\n",
       "      <th>C</th>\n",
       "      <th>D</th>\n",
       "      <th>E</th>\n",
       "      <th>F</th>\n",
       "      <th>G</th>\n",
       "      <th>H</th>\n",
       "    </tr>\n",
       "  </thead>\n",
       "  <tbody>\n",
       "    <tr>\n",
       "      <th>2019-03-01</th>\n",
       "      <td>0.488070</td>\n",
       "      <td>0.977446</td>\n",
       "      <td>-1.078024</td>\n",
       "      <td>0.304832</td>\n",
       "      <td>0</td>\n",
       "      <td>100</td>\n",
       "      <td>NaN</td>\n",
       "      <td>1.480613</td>\n",
       "    </tr>\n",
       "    <tr>\n",
       "      <th>2019-03-02</th>\n",
       "      <td>-0.094294</td>\n",
       "      <td>0.116606</td>\n",
       "      <td>1.331697</td>\n",
       "      <td>-0.379628</td>\n",
       "      <td>2</td>\n",
       "      <td>200</td>\n",
       "      <td>NaN</td>\n",
       "      <td>1.480613</td>\n",
       "    </tr>\n",
       "    <tr>\n",
       "      <th>2019-03-03</th>\n",
       "      <td>-0.537751</td>\n",
       "      <td>1.289351</td>\n",
       "      <td>0.644187</td>\n",
       "      <td>-0.420210</td>\n",
       "      <td>0</td>\n",
       "      <td>300</td>\n",
       "      <td>NaN</td>\n",
       "      <td>1.480613</td>\n",
       "    </tr>\n",
       "    <tr>\n",
       "      <th>2019-03-04</th>\n",
       "      <td>-0.061353</td>\n",
       "      <td>-0.306427</td>\n",
       "      <td>0.091094</td>\n",
       "      <td>0.603449</td>\n",
       "      <td>0</td>\n",
       "      <td>400</td>\n",
       "      <td>NaN</td>\n",
       "      <td>1.480613</td>\n",
       "    </tr>\n",
       "    <tr>\n",
       "      <th>2019-03-05</th>\n",
       "      <td>-0.309377</td>\n",
       "      <td>0.501087</td>\n",
       "      <td>0.297372</td>\n",
       "      <td>1.147860</td>\n",
       "      <td>0</td>\n",
       "      <td>500</td>\n",
       "      <td>NaN</td>\n",
       "      <td>1.480613</td>\n",
       "    </tr>\n",
       "    <tr>\n",
       "      <th>2019-03-06</th>\n",
       "      <td>0.182177</td>\n",
       "      <td>-0.167308</td>\n",
       "      <td>-1.605440</td>\n",
       "      <td>-0.288352</td>\n",
       "      <td>0</td>\n",
       "      <td>600</td>\n",
       "      <td>NaN</td>\n",
       "      <td>1.480613</td>\n",
       "    </tr>\n",
       "  </tbody>\n",
       "</table>\n",
       "</div>"
      ],
      "text/plain": [
       "                   A         B         C         D  E    F   G         H\n",
       "2019-03-01  0.488070  0.977446 -1.078024  0.304832  0  100 NaN  1.480613\n",
       "2019-03-02 -0.094294  0.116606  1.331697 -0.379628  2  200 NaN  1.480613\n",
       "2019-03-03 -0.537751  1.289351  0.644187 -0.420210  0  300 NaN  1.480613\n",
       "2019-03-04 -0.061353 -0.306427  0.091094  0.603449  0  400 NaN  1.480613\n",
       "2019-03-05 -0.309377  0.501087  0.297372  1.147860  0  500 NaN  1.480613\n",
       "2019-03-06  0.182177 -0.167308 -1.605440 -0.288352  0  600 NaN  1.480613"
      ]
     },
     "execution_count": 66,
     "metadata": {},
     "output_type": "execute_result"
    }
   ],
   "source": [
    "df.loc[\"2019-03-02\", \"E\"] = 2 # 특정 행의 특정 열의 값을 수정할 수 있다.\n",
    "df"
   ]
  },
  {
   "cell_type": "code",
   "execution_count": 68,
   "metadata": {},
   "outputs": [
    {
     "data": {
      "text/html": [
       "<div>\n",
       "<style scoped>\n",
       "    .dataframe tbody tr th:only-of-type {\n",
       "        vertical-align: middle;\n",
       "    }\n",
       "\n",
       "    .dataframe tbody tr th {\n",
       "        vertical-align: top;\n",
       "    }\n",
       "\n",
       "    .dataframe thead th {\n",
       "        text-align: right;\n",
       "    }\n",
       "</style>\n",
       "<table border=\"1\" class=\"dataframe\">\n",
       "  <thead>\n",
       "    <tr style=\"text-align: right;\">\n",
       "      <th></th>\n",
       "      <th>A</th>\n",
       "      <th>B</th>\n",
       "      <th>C</th>\n",
       "      <th>D</th>\n",
       "      <th>E</th>\n",
       "      <th>F</th>\n",
       "      <th>G</th>\n",
       "      <th>H</th>\n",
       "      <th>I</th>\n",
       "    </tr>\n",
       "  </thead>\n",
       "  <tbody>\n",
       "    <tr>\n",
       "      <th>2019-03-01</th>\n",
       "      <td>0.488070</td>\n",
       "      <td>0.977446</td>\n",
       "      <td>-1.078024</td>\n",
       "      <td>0.304832</td>\n",
       "      <td>0</td>\n",
       "      <td>100</td>\n",
       "      <td>NaN</td>\n",
       "      <td>1.480613</td>\n",
       "      <td>1.465516</td>\n",
       "    </tr>\n",
       "    <tr>\n",
       "      <th>2019-03-02</th>\n",
       "      <td>-0.094294</td>\n",
       "      <td>0.116606</td>\n",
       "      <td>1.331697</td>\n",
       "      <td>-0.379628</td>\n",
       "      <td>2</td>\n",
       "      <td>200</td>\n",
       "      <td>NaN</td>\n",
       "      <td>1.480613</td>\n",
       "      <td>0.022312</td>\n",
       "    </tr>\n",
       "    <tr>\n",
       "      <th>2019-03-03</th>\n",
       "      <td>-0.537751</td>\n",
       "      <td>1.289351</td>\n",
       "      <td>0.644187</td>\n",
       "      <td>-0.420210</td>\n",
       "      <td>0</td>\n",
       "      <td>300</td>\n",
       "      <td>NaN</td>\n",
       "      <td>1.480613</td>\n",
       "      <td>0.751600</td>\n",
       "    </tr>\n",
       "    <tr>\n",
       "      <th>2019-03-04</th>\n",
       "      <td>-0.061353</td>\n",
       "      <td>-0.306427</td>\n",
       "      <td>0.091094</td>\n",
       "      <td>0.603449</td>\n",
       "      <td>0</td>\n",
       "      <td>400</td>\n",
       "      <td>NaN</td>\n",
       "      <td>1.480613</td>\n",
       "      <td>-0.367780</td>\n",
       "    </tr>\n",
       "    <tr>\n",
       "      <th>2019-03-05</th>\n",
       "      <td>-0.309377</td>\n",
       "      <td>0.501087</td>\n",
       "      <td>0.297372</td>\n",
       "      <td>1.147860</td>\n",
       "      <td>0</td>\n",
       "      <td>500</td>\n",
       "      <td>NaN</td>\n",
       "      <td>1.480613</td>\n",
       "      <td>0.191710</td>\n",
       "    </tr>\n",
       "    <tr>\n",
       "      <th>2019-03-06</th>\n",
       "      <td>0.182177</td>\n",
       "      <td>-0.167308</td>\n",
       "      <td>-1.605440</td>\n",
       "      <td>-0.288352</td>\n",
       "      <td>0</td>\n",
       "      <td>600</td>\n",
       "      <td>NaN</td>\n",
       "      <td>1.480613</td>\n",
       "      <td>0.014869</td>\n",
       "    </tr>\n",
       "  </tbody>\n",
       "</table>\n",
       "</div>"
      ],
      "text/plain": [
       "                   A         B         C         D  E    F   G         H  \\\n",
       "2019-03-01  0.488070  0.977446 -1.078024  0.304832  0  100 NaN  1.480613   \n",
       "2019-03-02 -0.094294  0.116606  1.331697 -0.379628  2  200 NaN  1.480613   \n",
       "2019-03-03 -0.537751  1.289351  0.644187 -0.420210  0  300 NaN  1.480613   \n",
       "2019-03-04 -0.061353 -0.306427  0.091094  0.603449  0  400 NaN  1.480613   \n",
       "2019-03-05 -0.309377  0.501087  0.297372  1.147860  0  500 NaN  1.480613   \n",
       "2019-03-06  0.182177 -0.167308 -1.605440 -0.288352  0  600 NaN  1.480613   \n",
       "\n",
       "                   I  \n",
       "2019-03-01  1.465516  \n",
       "2019-03-02  0.022312  \n",
       "2019-03-03  0.751600  \n",
       "2019-03-04 -0.367780  \n",
       "2019-03-05  0.191710  \n",
       "2019-03-06  0.014869  "
      ]
     },
     "execution_count": 68,
     "metadata": {},
     "output_type": "execute_result"
    }
   ],
   "source": [
    "df[\"I\"] = df[\"A\"] + df[\"B\"]\n",
    "df"
   ]
  },
  {
   "cell_type": "code",
   "execution_count": 70,
   "metadata": {},
   "outputs": [
    {
     "data": {
      "text/html": [
       "<div>\n",
       "<style scoped>\n",
       "    .dataframe tbody tr th:only-of-type {\n",
       "        vertical-align: middle;\n",
       "    }\n",
       "\n",
       "    .dataframe tbody tr th {\n",
       "        vertical-align: top;\n",
       "    }\n",
       "\n",
       "    .dataframe thead th {\n",
       "        text-align: right;\n",
       "    }\n",
       "</style>\n",
       "<table border=\"1\" class=\"dataframe\">\n",
       "  <thead>\n",
       "    <tr style=\"text-align: right;\">\n",
       "      <th></th>\n",
       "      <th>기간</th>\n",
       "      <th>구분</th>\n",
       "      <th>전체</th>\n",
       "      <th>남학생</th>\n",
       "      <th>여학생</th>\n",
       "      <th>전체.1</th>\n",
       "      <th>남학생.1</th>\n",
       "      <th>여학생.1</th>\n",
       "      <th>전체.2</th>\n",
       "      <th>남학생.2</th>\n",
       "      <th>여학생.2</th>\n",
       "    </tr>\n",
       "  </thead>\n",
       "  <tbody>\n",
       "    <tr>\n",
       "      <th>0</th>\n",
       "      <td>2018</td>\n",
       "      <td>구분</td>\n",
       "      <td>42.7</td>\n",
       "      <td>34.5</td>\n",
       "      <td>51.5</td>\n",
       "      <td>29.6</td>\n",
       "      <td>24.2</td>\n",
       "      <td>35.4</td>\n",
       "      <td>15.4</td>\n",
       "      <td>11.8</td>\n",
       "      <td>19.2</td>\n",
       "    </tr>\n",
       "  </tbody>\n",
       "</table>\n",
       "</div>"
      ],
      "text/plain": [
       "     기간 구분     전체   남학생   여학생  전체.1  남학생.1  여학생.1  전체.2  남학생.2  여학생.2\n",
       "0  2018  구분  42.7  34.5  51.5  29.6   24.2   35.4  15.4   11.8   19.2"
      ]
     },
     "execution_count": 70,
     "metadata": {},
     "output_type": "execute_result"
    }
   ],
   "source": [
    "teen = pd.read_excel(\"../../Downloads/청소년정신건강/teenage_mental.xls\", header=1) # header 은 위에서 몇개를 보여줄까 하는 것\n",
    "teen"
   ]
  },
  {
   "cell_type": "code",
   "execution_count": 71,
   "metadata": {},
   "outputs": [
    {
     "data": {
      "text/html": [
       "<div>\n",
       "<style scoped>\n",
       "    .dataframe tbody tr th:only-of-type {\n",
       "        vertical-align: middle;\n",
       "    }\n",
       "\n",
       "    .dataframe tbody tr th {\n",
       "        vertical-align: top;\n",
       "    }\n",
       "\n",
       "    .dataframe thead th {\n",
       "        text-align: right;\n",
       "    }\n",
       "</style>\n",
       "<table border=\"1\" class=\"dataframe\">\n",
       "  <thead>\n",
       "    <tr style=\"text-align: right;\">\n",
       "      <th></th>\n",
       "      <th>전체</th>\n",
       "      <th>남학생</th>\n",
       "      <th>여학생</th>\n",
       "      <th>전체.1</th>\n",
       "      <th>남학생.1</th>\n",
       "      <th>여학생.1</th>\n",
       "      <th>전체.2</th>\n",
       "      <th>남학생.2</th>\n",
       "      <th>여학생.2</th>\n",
       "    </tr>\n",
       "  </thead>\n",
       "  <tbody>\n",
       "    <tr>\n",
       "      <th>0</th>\n",
       "      <td>42.7</td>\n",
       "      <td>34.5</td>\n",
       "      <td>51.5</td>\n",
       "      <td>29.6</td>\n",
       "      <td>24.2</td>\n",
       "      <td>35.4</td>\n",
       "      <td>15.4</td>\n",
       "      <td>11.8</td>\n",
       "      <td>19.2</td>\n",
       "    </tr>\n",
       "  </tbody>\n",
       "</table>\n",
       "</div>"
      ],
      "text/plain": [
       "     전체   남학생   여학생  전체.1  남학생.1  여학생.1  전체.2  남학생.2  여학생.2\n",
       "0  42.7  34.5  51.5  29.6   24.2   35.4  15.4   11.8   19.2"
      ]
     },
     "execution_count": 71,
     "metadata": {},
     "output_type": "execute_result"
    }
   ],
   "source": [
    "teen = pd.read_excel(\"../../Downloads/청소년정신건강/teenage_mental.xls\", header=1, usecols=\"C:K\")\n",
    "# usecols C부터 K 까지의 컬럼만 사용하겠다.\n",
    "teen"
   ]
  },
  {
   "cell_type": "code",
   "execution_count": 73,
   "metadata": {},
   "outputs": [
    {
     "data": {
      "text/html": [
       "<div>\n",
       "<style scoped>\n",
       "    .dataframe tbody tr th:only-of-type {\n",
       "        vertical-align: middle;\n",
       "    }\n",
       "\n",
       "    .dataframe tbody tr th {\n",
       "        vertical-align: top;\n",
       "    }\n",
       "\n",
       "    .dataframe thead th {\n",
       "        text-align: right;\n",
       "    }\n",
       "</style>\n",
       "<table border=\"1\" class=\"dataframe\">\n",
       "  <thead>\n",
       "    <tr style=\"text-align: right;\">\n",
       "      <th></th>\n",
       "      <th>1</th>\n",
       "      <th>2</th>\n",
       "      <th>3</th>\n",
       "      <th>4</th>\n",
       "      <th>5</th>\n",
       "      <th>6</th>\n",
       "      <th>7</th>\n",
       "      <th>8</th>\n",
       "      <th>9</th>\n",
       "    </tr>\n",
       "  </thead>\n",
       "  <tbody>\n",
       "    <tr>\n",
       "      <th>0</th>\n",
       "      <td>42.7</td>\n",
       "      <td>34.5</td>\n",
       "      <td>51.5</td>\n",
       "      <td>29.6</td>\n",
       "      <td>24.2</td>\n",
       "      <td>35.4</td>\n",
       "      <td>15.4</td>\n",
       "      <td>11.8</td>\n",
       "      <td>19.2</td>\n",
       "    </tr>\n",
       "  </tbody>\n",
       "</table>\n",
       "</div>"
      ],
      "text/plain": [
       "      1     2     3     4     5     6     7     8     9\n",
       "0  42.7  34.5  51.5  29.6  24.2  35.4  15.4  11.8  19.2"
      ]
     },
     "execution_count": 73,
     "metadata": {},
     "output_type": "execute_result"
    }
   ],
   "source": [
    "col_names = [\"1\", \"2\", \"3\", \"4\", \"5\", \"6\", \"7\", \"8\", \"9\"]\n",
    "teen = pd.read_excel(\"../../Downloads/청소년정신건강/teenage_mental.xls\", header=1, usecols=\"C:K\", names=col_names)\n",
    "teen"
   ]
  },
  {
   "cell_type": "code",
   "execution_count": 74,
   "metadata": {},
   "outputs": [
    {
     "data": {
      "text/html": [
       "<div>\n",
       "<style scoped>\n",
       "    .dataframe tbody tr th:only-of-type {\n",
       "        vertical-align: middle;\n",
       "    }\n",
       "\n",
       "    .dataframe tbody tr th {\n",
       "        vertical-align: top;\n",
       "    }\n",
       "\n",
       "    .dataframe thead th {\n",
       "        text-align: right;\n",
       "    }\n",
       "</style>\n",
       "<table border=\"1\" class=\"dataframe\">\n",
       "  <thead>\n",
       "    <tr style=\"text-align: right;\">\n",
       "      <th></th>\n",
       "      <th>스트전체</th>\n",
       "      <th>스트남자</th>\n",
       "      <th>스트여자</th>\n",
       "      <th>우울전체</th>\n",
       "      <th>우울남자</th>\n",
       "      <th>우울여자</th>\n",
       "      <th>자살전체</th>\n",
       "      <th>자살남자</th>\n",
       "      <th>자살여자</th>\n",
       "    </tr>\n",
       "  </thead>\n",
       "  <tbody>\n",
       "    <tr>\n",
       "      <th>0</th>\n",
       "      <td>42.7</td>\n",
       "      <td>34.5</td>\n",
       "      <td>51.5</td>\n",
       "      <td>29.6</td>\n",
       "      <td>24.2</td>\n",
       "      <td>35.4</td>\n",
       "      <td>15.4</td>\n",
       "      <td>11.8</td>\n",
       "      <td>19.2</td>\n",
       "    </tr>\n",
       "  </tbody>\n",
       "</table>\n",
       "</div>"
      ],
      "text/plain": [
       "   스트전체  스트남자  스트여자  우울전체  우울남자  우울여자  자살전체  자살남자  자살여자\n",
       "0  42.7  34.5  51.5  29.6  24.2  35.4  15.4  11.8  19.2"
      ]
     },
     "execution_count": 74,
     "metadata": {},
     "output_type": "execute_result"
    }
   ],
   "source": [
    "col_names = [\"스트전체\", \"스트남자\", \"스트여자\", \"우울전체\", \"우울남자\", \"우울여자\", \"자살전체\", \"자살남자\", \"자살여자\"]\n",
    "teen = pd.read_excel(\"../../Downloads/청소년정신건강/teenage_mental.xls\", header=1, usecols=\"C:K\", names=col_names)\n",
    "teen"
   ]
  },
  {
   "cell_type": "code",
   "execution_count": 77,
   "metadata": {},
   "outputs": [
    {
     "data": {
      "text/html": [
       "<div>\n",
       "<style scoped>\n",
       "    .dataframe tbody tr th:only-of-type {\n",
       "        vertical-align: middle;\n",
       "    }\n",
       "\n",
       "    .dataframe tbody tr th {\n",
       "        vertical-align: top;\n",
       "    }\n",
       "\n",
       "    .dataframe thead th {\n",
       "        text-align: right;\n",
       "    }\n",
       "</style>\n",
       "<table border=\"1\" class=\"dataframe\">\n",
       "  <thead>\n",
       "    <tr style=\"text-align: right;\">\n",
       "      <th></th>\n",
       "      <th>스트전체</th>\n",
       "      <th>스트남자</th>\n",
       "      <th>스트여자</th>\n",
       "      <th>우울전체</th>\n",
       "      <th>우울남자</th>\n",
       "      <th>우울여자</th>\n",
       "      <th>자살전체</th>\n",
       "      <th>자살남자</th>\n",
       "      <th>자살여자</th>\n",
       "      <th>1</th>\n",
       "    </tr>\n",
       "  </thead>\n",
       "  <tbody>\n",
       "    <tr>\n",
       "      <th>0</th>\n",
       "      <td>42.7</td>\n",
       "      <td>34.5</td>\n",
       "      <td>51.5</td>\n",
       "      <td>29.6</td>\n",
       "      <td>24.2</td>\n",
       "      <td>35.4</td>\n",
       "      <td>15.4</td>\n",
       "      <td>11.8</td>\n",
       "      <td>19.2</td>\n",
       "      <td>NaN</td>\n",
       "    </tr>\n",
       "    <tr>\n",
       "      <th>1</th>\n",
       "      <td>57.3</td>\n",
       "      <td>65.5</td>\n",
       "      <td>48.5</td>\n",
       "      <td>70.4</td>\n",
       "      <td>75.8</td>\n",
       "      <td>64.6</td>\n",
       "      <td>84.6</td>\n",
       "      <td>88.2</td>\n",
       "      <td>80.8</td>\n",
       "      <td>NaN</td>\n",
       "    </tr>\n",
       "  </tbody>\n",
       "</table>\n",
       "</div>"
      ],
      "text/plain": [
       "   스트전체  스트남자  스트여자  우울전체  우울남자  우울여자  자살전체  자살남자  자살여자   1\n",
       "0  42.7  34.5  51.5  29.6  24.2  35.4  15.4  11.8  19.2 NaN\n",
       "1  57.3  65.5  48.5  70.4  75.8  64.6  84.6  88.2  80.8 NaN"
      ]
     },
     "execution_count": 77,
     "metadata": {},
     "output_type": "execute_result"
    }
   ],
   "source": [
    "teen.loc[1] = 100 - teen.loc[0] # 1번 행을 추가하기\n",
    "teen"
   ]
  },
  {
   "cell_type": "code",
   "execution_count": 78,
   "metadata": {},
   "outputs": [
    {
     "data": {
      "text/html": [
       "<div>\n",
       "<style scoped>\n",
       "    .dataframe tbody tr th:only-of-type {\n",
       "        vertical-align: middle;\n",
       "    }\n",
       "\n",
       "    .dataframe tbody tr th {\n",
       "        vertical-align: top;\n",
       "    }\n",
       "\n",
       "    .dataframe thead th {\n",
       "        text-align: right;\n",
       "    }\n",
       "</style>\n",
       "<table border=\"1\" class=\"dataframe\">\n",
       "  <thead>\n",
       "    <tr style=\"text-align: right;\">\n",
       "      <th></th>\n",
       "      <th>스트전체</th>\n",
       "      <th>스트남자</th>\n",
       "      <th>스트여자</th>\n",
       "      <th>우울전체</th>\n",
       "      <th>우울남자</th>\n",
       "      <th>우울여자</th>\n",
       "      <th>자살전체</th>\n",
       "      <th>자살남자</th>\n",
       "      <th>자살여자</th>\n",
       "      <th>1</th>\n",
       "      <th>응답</th>\n",
       "    </tr>\n",
       "  </thead>\n",
       "  <tbody>\n",
       "    <tr>\n",
       "      <th>0</th>\n",
       "      <td>42.7</td>\n",
       "      <td>34.5</td>\n",
       "      <td>51.5</td>\n",
       "      <td>29.6</td>\n",
       "      <td>24.2</td>\n",
       "      <td>35.4</td>\n",
       "      <td>15.4</td>\n",
       "      <td>11.8</td>\n",
       "      <td>19.2</td>\n",
       "      <td>NaN</td>\n",
       "      <td>그렇다</td>\n",
       "    </tr>\n",
       "    <tr>\n",
       "      <th>1</th>\n",
       "      <td>57.3</td>\n",
       "      <td>65.5</td>\n",
       "      <td>48.5</td>\n",
       "      <td>70.4</td>\n",
       "      <td>75.8</td>\n",
       "      <td>64.6</td>\n",
       "      <td>84.6</td>\n",
       "      <td>88.2</td>\n",
       "      <td>80.8</td>\n",
       "      <td>NaN</td>\n",
       "      <td>아니다</td>\n",
       "    </tr>\n",
       "  </tbody>\n",
       "</table>\n",
       "</div>"
      ],
      "text/plain": [
       "   스트전체  스트남자  스트여자  우울전체  우울남자  우울여자  자살전체  자살남자  자살여자   1   응답\n",
       "0  42.7  34.5  51.5  29.6  24.2  35.4  15.4  11.8  19.2 NaN  그렇다\n",
       "1  57.3  65.5  48.5  70.4  75.8  64.6  84.6  88.2  80.8 NaN  아니다"
      ]
     },
     "execution_count": 78,
     "metadata": {},
     "output_type": "execute_result"
    }
   ],
   "source": [
    "teen[\"응답\"] = [\"그렇다\", \"아니다\"] # 열(컬럼)을 추가하기!\n",
    "teen"
   ]
  },
  {
   "cell_type": "code",
   "execution_count": 79,
   "metadata": {},
   "outputs": [
    {
     "data": {
      "text/html": [
       "<div>\n",
       "<style scoped>\n",
       "    .dataframe tbody tr th:only-of-type {\n",
       "        vertical-align: middle;\n",
       "    }\n",
       "\n",
       "    .dataframe tbody tr th {\n",
       "        vertical-align: top;\n",
       "    }\n",
       "\n",
       "    .dataframe thead th {\n",
       "        text-align: right;\n",
       "    }\n",
       "</style>\n",
       "<table border=\"1\" class=\"dataframe\">\n",
       "  <thead>\n",
       "    <tr style=\"text-align: right;\">\n",
       "      <th></th>\n",
       "      <th>스트전체</th>\n",
       "      <th>스트남자</th>\n",
       "      <th>스트여자</th>\n",
       "      <th>우울전체</th>\n",
       "      <th>우울남자</th>\n",
       "      <th>우울여자</th>\n",
       "      <th>자살전체</th>\n",
       "      <th>자살남자</th>\n",
       "      <th>자살여자</th>\n",
       "      <th>1</th>\n",
       "    </tr>\n",
       "    <tr>\n",
       "      <th>응답</th>\n",
       "      <th></th>\n",
       "      <th></th>\n",
       "      <th></th>\n",
       "      <th></th>\n",
       "      <th></th>\n",
       "      <th></th>\n",
       "      <th></th>\n",
       "      <th></th>\n",
       "      <th></th>\n",
       "      <th></th>\n",
       "    </tr>\n",
       "  </thead>\n",
       "  <tbody>\n",
       "    <tr>\n",
       "      <th>그렇다</th>\n",
       "      <td>42.7</td>\n",
       "      <td>34.5</td>\n",
       "      <td>51.5</td>\n",
       "      <td>29.6</td>\n",
       "      <td>24.2</td>\n",
       "      <td>35.4</td>\n",
       "      <td>15.4</td>\n",
       "      <td>11.8</td>\n",
       "      <td>19.2</td>\n",
       "      <td>NaN</td>\n",
       "    </tr>\n",
       "    <tr>\n",
       "      <th>아니다</th>\n",
       "      <td>57.3</td>\n",
       "      <td>65.5</td>\n",
       "      <td>48.5</td>\n",
       "      <td>70.4</td>\n",
       "      <td>75.8</td>\n",
       "      <td>64.6</td>\n",
       "      <td>84.6</td>\n",
       "      <td>88.2</td>\n",
       "      <td>80.8</td>\n",
       "      <td>NaN</td>\n",
       "    </tr>\n",
       "  </tbody>\n",
       "</table>\n",
       "</div>"
      ],
      "text/plain": [
       "     스트전체  스트남자  스트여자  우울전체  우울남자  우울여자  자살전체  자살남자  자살여자   1\n",
       "응답                                                           \n",
       "그렇다  42.7  34.5  51.5  29.6  24.2  35.4  15.4  11.8  19.2 NaN\n",
       "아니다  57.3  65.5  48.5  70.4  75.8  64.6  84.6  88.2  80.8 NaN"
      ]
     },
     "execution_count": 79,
     "metadata": {},
     "output_type": "execute_result"
    }
   ],
   "source": [
    "teen.set_index(\"응답\", inplace=True) # set_index는 비파괴형이라서 inplace 사용\n",
    "teen"
   ]
  },
  {
   "cell_type": "code",
   "execution_count": 81,
   "metadata": {},
   "outputs": [
    {
     "data": {
      "text/html": [
       "<div>\n",
       "<style scoped>\n",
       "    .dataframe tbody tr th:only-of-type {\n",
       "        vertical-align: middle;\n",
       "    }\n",
       "\n",
       "    .dataframe tbody tr th {\n",
       "        vertical-align: top;\n",
       "    }\n",
       "\n",
       "    .dataframe thead th {\n",
       "        text-align: right;\n",
       "    }\n",
       "</style>\n",
       "<table border=\"1\" class=\"dataframe\">\n",
       "  <thead>\n",
       "    <tr style=\"text-align: right;\">\n",
       "      <th></th>\n",
       "      <th>스트전체</th>\n",
       "      <th>스트남자</th>\n",
       "      <th>스트여자</th>\n",
       "      <th>우울전체</th>\n",
       "      <th>우울남자</th>\n",
       "      <th>우울여자</th>\n",
       "      <th>자살전체</th>\n",
       "      <th>자살남자</th>\n",
       "      <th>자살여자</th>\n",
       "    </tr>\n",
       "    <tr>\n",
       "      <th>응답</th>\n",
       "      <th></th>\n",
       "      <th></th>\n",
       "      <th></th>\n",
       "      <th></th>\n",
       "      <th></th>\n",
       "      <th></th>\n",
       "      <th></th>\n",
       "      <th></th>\n",
       "      <th></th>\n",
       "    </tr>\n",
       "  </thead>\n",
       "  <tbody>\n",
       "    <tr>\n",
       "      <th>그렇다</th>\n",
       "      <td>42.7</td>\n",
       "      <td>34.5</td>\n",
       "      <td>51.5</td>\n",
       "      <td>29.6</td>\n",
       "      <td>24.2</td>\n",
       "      <td>35.4</td>\n",
       "      <td>15.4</td>\n",
       "      <td>11.8</td>\n",
       "      <td>19.2</td>\n",
       "    </tr>\n",
       "    <tr>\n",
       "      <th>아니다</th>\n",
       "      <td>57.3</td>\n",
       "      <td>65.5</td>\n",
       "      <td>48.5</td>\n",
       "      <td>70.4</td>\n",
       "      <td>75.8</td>\n",
       "      <td>64.6</td>\n",
       "      <td>84.6</td>\n",
       "      <td>88.2</td>\n",
       "      <td>80.8</td>\n",
       "    </tr>\n",
       "  </tbody>\n",
       "</table>\n",
       "</div>"
      ],
      "text/plain": [
       "     스트전체  스트남자  스트여자  우울전체  우울남자  우울여자  자살전체  자살남자  자살여자\n",
       "응답                                                       \n",
       "그렇다  42.7  34.5  51.5  29.6  24.2  35.4  15.4  11.8  19.2\n",
       "아니다  57.3  65.5  48.5  70.4  75.8  64.6  84.6  88.2  80.8"
      ]
     },
     "execution_count": 81,
     "metadata": {},
     "output_type": "execute_result"
    }
   ],
   "source": [
    "teen.drop(columns=1, inplace=True) # 필요없는 컬럼(열) 삭제!\n",
    "teen"
   ]
  },
  {
   "cell_type": "code",
   "execution_count": 83,
   "metadata": {},
   "outputs": [],
   "source": [
    "import matplotlib.pyplot as plt\n",
    "from matplotlib import font_manager, rc # 한글 처리\n",
    "f_path = 'C:/Windows/Fonts/malgun.ttf'\n",
    "font_name=font_manager.FontProperties(fname=f_path).get_name()\n",
    "rc('font', family = font_name)\n",
    "plt.rcParams['axes.unicode_minus'] = False\n",
    "# 한글처리!"
   ]
  },
  {
   "cell_type": "code",
   "execution_count": 86,
   "metadata": {},
   "outputs": [
    {
     "data": {
      "text/plain": [
       "<matplotlib.axes._subplots.AxesSubplot at 0x1f8773df470>"
      ]
     },
     "execution_count": 86,
     "metadata": {},
     "output_type": "execute_result"
    },
    {
     "data": {
      "image/png": "[encoded data removed]",
      "text/plain": [
       "<Figure size 432x288 with 1 Axes>"
      ]
     },
     "metadata": {},
     "output_type": "display_data"
    }
   ],
   "source": [
    "teen[\"스트전체\"].plot.pie(explode=[0, 0.02]) # explode 는 간격을 의미"
   ]
  },
  {
   "cell_type": "code",
   "execution_count": 95,
   "metadata": {},
   "outputs": [
    {
     "data": {
      "image/png": "[encoded data removed]",
      "text/plain": [
       "<Figure size 1152x576 with 3 Axes>"
      ]
     },
     "metadata": {},
     "output_type": "display_data"
    }
   ],
   "source": [
    "f, ax = plt.subplots(1, 3, figsize = (16, 8))\n",
    "teen[\"스트전체\"].plot.pie(explode=[0, 0.02], ax = ax[0], autopct=\"%1.1f%%\")\n",
    "ax[0].set_title(\"청소년 스트레스 비율\")\n",
    "\n",
    "teen[\"우울전체\"].plot.pie(explode=[0, 0.02], ax = ax[1], autopct=\"%1.1f%%\")\n",
    "ax[1].set_title(\"청소년 우울증 비율\")\n",
    "\n",
    "teen[\"자살전체\"].plot.pie(explode=[0, 0.02], ax = ax[2], autopct=\"%1.1f%%\")\n",
    "ax[2].set_title(\"청소년 자살고민 비율\")\n",
    "\n",
    "# ax[0].legend(handles=pie,labels=list(teen[\"응답\"])) ## 범례\n",
    "\n",
    "plt.show()"
   ]
  },
  {
   "cell_type": "code",
   "execution_count": 96,
   "metadata": {},
   "outputs": [
    {
     "data": {
      "image/png": "[encoded data removed]",
      "text/plain": [
       "<Figure size 1152x576 with 3 Axes>"
      ]
     },
     "metadata": {},
     "output_type": "display_data"
    }
   ],
   "source": [
    "f2, ax2 = plt.subplots(1, 3, figsize = (16, 8))\n",
    "teen[\"스트남자\"].plot.pie(explode=[0, 0.02], ax = ax2[0], autopct=\"%1.1f%%\")\n",
    "ax2[0].set_title(\"청소년 남성 스트레스 비율\")\n",
    "\n",
    "teen[\"우울남자\"].plot.pie(explode=[0, 0.02], ax = ax2[1], autopct=\"%1.1f%%\")\n",
    "ax2[1].set_title(\"청소년 남성 우울증 비율\")\n",
    "\n",
    "teen[\"자살남자\"].plot.pie(explode=[0, 0.02], ax = ax2[2], autopct=\"%1.1f%%\")\n",
    "ax2[2].set_title(\"청소년 남성 자살고민 비율\")\n",
    "\n",
    "# ax[0].legend(handles=pie,labels=list(teen[\"응답\"])) ## 범례\n",
    "\n",
    "plt.show()"
   ]
  },
  {
   "cell_type": "code",
   "execution_count": 99,
   "metadata": {},
   "outputs": [
    {
     "data": {
      "image/png": "[encoded data removed]",
      "text/plain": [
       "<Figure size 1152x576 with 3 Axes>"
      ]
     },
     "metadata": {},
     "output_type": "display_data"
    }
   ],
   "source": [
    "f3, ax3 = plt.subplots(1, 3, figsize = (16, 8))\n",
    "teen[\"스트여자\"].plot.pie(explode=[0, 0.02], ax = ax3[0], autopct=\"%1.1f%%\")\n",
    "ax3[0].set_title(\"청소년 여성 스트레스 비율\")\n",
    "\n",
    "teen[\"우울여자\"].plot.pie(explode=[0, 0.02], ax = ax3[1], autopct=\"%1.1f%%\")\n",
    "ax3[1].set_title(\"청소년 여성 우울증 비율\")\n",
    "\n",
    "teen[\"자살여자\"].plot.pie(explode=[0, 0.02], ax = ax3[2], autopct=\"%1.1f%%\")\n",
    "ax3[2].set_title(\"청소년 여성 자살고민 비율\")\n",
    "\n",
    "plt.show()"
   ]
  },
  {
   "cell_type": "code",
   "execution_count": null,
   "metadata": {},
   "outputs": [],
   "source": []
  }
 ],
 "metadata": {
  "kernelspec": {
   "display_name": "Python 3",
   "language": "python",
   "name": "python3"
  },
  "language_info": {
   "codemirror_mode": {
    "name": "ipython",
    "version": 3
   },
   "file_extension": ".py",
   "mimetype": "text/x-python",
   "name": "python",
   "nbconvert_exporter": "python",
   "pygments_lexer": "ipython3",
   "version": "3.7.0"
  }
 },
 "nbformat": 4,
 "nbformat_minor": 2
}
